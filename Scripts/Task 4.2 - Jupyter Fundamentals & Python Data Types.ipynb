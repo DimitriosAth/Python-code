{
 "cells": [
  {
   "cell_type": "markdown",
   "id": "61be892c",
   "metadata": {},
   "source": [
    "# 01. Importing libraries"
   ]
  },
  {
   "cell_type": "code",
   "execution_count": null,
   "id": "74d042d4",
   "metadata": {},
   "outputs": [],
   "source": [
    "# Installing pandas and NumPy\n",
    "import pandas as pd\n",
    "import numpy as np\n",
    "import os"
   ]
  },
  {
   "cell_type": "markdown",
   "id": "2edaf371",
   "metadata": {},
   "source": [
    "# 02. Data types"
   ]
  },
  {
   "cell_type": "code",
   "execution_count": 1,
   "id": "8ef326c5",
   "metadata": {},
   "outputs": [],
   "source": [
    "x=122"
   ]
  },
  {
   "cell_type": "code",
   "execution_count": 2,
   "id": "87e50881",
   "metadata": {},
   "outputs": [],
   "source": [
    "y=22"
   ]
  },
  {
   "cell_type": "code",
   "execution_count": 3,
   "id": "48e9d792",
   "metadata": {},
   "outputs": [
    {
     "data": {
      "text/plain": [
       "100"
      ]
     },
     "execution_count": 3,
     "metadata": {},
     "output_type": "execute_result"
    }
   ],
   "source": [
    "x-y"
   ]
  },
  {
   "cell_type": "code",
   "execution_count": 4,
   "id": "d05423ec",
   "metadata": {},
   "outputs": [],
   "source": [
    "n=88"
   ]
  },
  {
   "cell_type": "code",
   "execution_count": 5,
   "id": "cfda59ff",
   "metadata": {},
   "outputs": [],
   "source": [
    "k=12"
   ]
  },
  {
   "cell_type": "code",
   "execution_count": 6,
   "id": "23702255",
   "metadata": {},
   "outputs": [
    {
     "data": {
      "text/plain": [
       "100"
      ]
     },
     "execution_count": 6,
     "metadata": {},
     "output_type": "execute_result"
    }
   ],
   "source": [
    "n+k"
   ]
  },
  {
   "cell_type": "code",
   "execution_count": 7,
   "id": "305a80ad",
   "metadata": {},
   "outputs": [],
   "source": [
    "g=20"
   ]
  },
  {
   "cell_type": "code",
   "execution_count": 8,
   "id": "46ad4048",
   "metadata": {},
   "outputs": [],
   "source": [
    "h=5"
   ]
  },
  {
   "cell_type": "code",
   "execution_count": 9,
   "id": "ffeb3730",
   "metadata": {},
   "outputs": [
    {
     "data": {
      "text/plain": [
       "100"
      ]
     },
     "execution_count": 9,
     "metadata": {},
     "output_type": "execute_result"
    }
   ],
   "source": [
    "g*h"
   ]
  },
  {
   "cell_type": "code",
   "execution_count": 10,
   "id": "4f05c344",
   "metadata": {},
   "outputs": [],
   "source": [
    "a=32.7"
   ]
  },
  {
   "cell_type": "code",
   "execution_count": 11,
   "id": "bfa738e2",
   "metadata": {},
   "outputs": [],
   "source": [
    "b=9.8"
   ]
  },
  {
   "cell_type": "code",
   "execution_count": 12,
   "id": "d7610311",
   "metadata": {},
   "outputs": [
    {
     "data": {
      "text/plain": [
       "3.3367346938775513"
      ]
     },
     "execution_count": 12,
     "metadata": {},
     "output_type": "execute_result"
    }
   ],
   "source": [
    "a/b"
   ]
  },
  {
   "cell_type": "code",
   "execution_count": 14,
   "id": "7476aa63",
   "metadata": {},
   "outputs": [],
   "source": [
    "c='black'"
   ]
  },
  {
   "cell_type": "code",
   "execution_count": 15,
   "id": "3732fa38",
   "metadata": {},
   "outputs": [],
   "source": [
    "d='jack'"
   ]
  },
  {
   "cell_type": "code",
   "execution_count": 16,
   "id": "9bc95575",
   "metadata": {},
   "outputs": [
    {
     "data": {
      "text/plain": [
       "'blackjack'"
      ]
     },
     "execution_count": 16,
     "metadata": {},
     "output_type": "execute_result"
    }
   ],
   "source": [
    "c+d"
   ]
  },
  {
   "cell_type": "code",
   "execution_count": 17,
   "id": "836e58e0",
   "metadata": {},
   "outputs": [],
   "source": [
    "e='This is '"
   ]
  },
  {
   "cell_type": "code",
   "execution_count": 18,
   "id": "ae4a1d25",
   "metadata": {},
   "outputs": [],
   "source": [
    "f='way to easy'"
   ]
  },
  {
   "cell_type": "code",
   "execution_count": 19,
   "id": "2ddcf937",
   "metadata": {},
   "outputs": [
    {
     "data": {
      "text/plain": [
       "'This is way to easy'"
      ]
     },
     "execution_count": 19,
     "metadata": {},
     "output_type": "execute_result"
    }
   ],
   "source": [
    "e+f"
   ]
  },
  {
   "cell_type": "code",
   "execution_count": 20,
   "id": "8697004a",
   "metadata": {},
   "outputs": [],
   "source": [
    "i='I will probably regret '"
   ]
  },
  {
   "cell_type": "code",
   "execution_count": 21,
   "id": "6374a5ad",
   "metadata": {},
   "outputs": [],
   "source": [
    "p='the above statement'"
   ]
  },
  {
   "cell_type": "code",
   "execution_count": 22,
   "id": "a44dc80c",
   "metadata": {},
   "outputs": [
    {
     "data": {
      "text/plain": [
       "'I will probably regret the above statement'"
      ]
     },
     "execution_count": 22,
     "metadata": {},
     "output_type": "execute_result"
    }
   ],
   "source": [
    "i+p"
   ]
  },
  {
   "cell_type": "markdown",
   "id": "30521507",
   "metadata": {},
   "source": [
    "# 03. Bonus Task"
   ]
  },
  {
   "cell_type": "code",
   "execution_count": 23,
   "id": "05210de4",
   "metadata": {},
   "outputs": [
    {
     "data": {
      "text/plain": [
       "'jackjackjackjackjackjackjackjackjackjackjackjackjackjackjackjackjackjackjackjackjackjackjackjackjackjackjackjackjackjackjackjackjackjackjackjackjackjackjackjackjackjackjackjackjackjackjackjackjackjackjackjackjackjackjackjackjackjackjackjackjackjackjackjackjackjackjackjackjackjackjackjackjackjackjackjackjackjackjackjackjackjackjackjackjackjackjackjackjackjackjackjackjackjackjackjackjackjackjackjack'"
      ]
     },
     "execution_count": 23,
     "metadata": {},
     "output_type": "execute_result"
    }
   ],
   "source": [
    "d*100"
   ]
  },
  {
   "cell_type": "code",
   "execution_count": null,
   "id": "37104170",
   "metadata": {},
   "outputs": [],
   "source": []
  },
  {
   "cell_type": "code",
   "execution_count": null,
   "id": "6235e507",
   "metadata": {},
   "outputs": [],
   "source": []
  }
 ],
 "metadata": {
  "kernelspec": {
   "display_name": "Python 3 (ipykernel)",
   "language": "python",
   "name": "python3"
  },
  "language_info": {
   "codemirror_mode": {
    "name": "ipython",
    "version": 3
   },
   "file_extension": ".py",
   "mimetype": "text/x-python",
   "name": "python",
   "nbconvert_exporter": "python",
   "pygments_lexer": "ipython3",
   "version": "3.9.12"
  }
 },
 "nbformat": 4,
 "nbformat_minor": 5
}
