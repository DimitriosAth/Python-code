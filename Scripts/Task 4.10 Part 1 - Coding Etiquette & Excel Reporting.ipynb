{
 "cells": [
  {
   "cell_type": "markdown",
   "id": "19a467aa",
   "metadata": {},
   "source": [
    "## 01. Import libraries and data set"
   ]
  },
  {
   "cell_type": "code",
   "execution_count": 1,
   "id": "f693d93d",
   "metadata": {},
   "outputs": [],
   "source": [
    "# Import libraries\n",
    "\n",
    "import pandas as pd\n",
    "import numpy as np\n",
    "import os\n",
    "import matplotlib.pyplot as plt\n",
    "import seaborn as sns\n",
    "import scipy"
   ]
  },
  {
   "cell_type": "code",
   "execution_count": 2,
   "id": "857474d1",
   "metadata": {},
   "outputs": [],
   "source": [
    "path = r'/Users/Dimitris/Desktop/CF Data Analytics/Data Immersion/Achievement 4/22-08-2022 Instacart Basket Analysis'"
   ]
  },
  {
   "cell_type": "code",
   "execution_count": 3,
   "id": "ad0c4738",
   "metadata": {},
   "outputs": [],
   "source": [
    "# Import the orders_products_customer_merged dataframe from the pickle file you saved\n",
    "\n",
    "df_final = pd.read_pickle(os.path.join(path, '02 Data', 'Prepared data', 'orders_products_customer_merged.pkl'))"
   ]
  },
  {
   "cell_type": "code",
   "execution_count": 4,
   "id": "12087fb0",
   "metadata": {},
   "outputs": [],
   "source": [
    "# Display all columns in dataframe\n",
    "\n",
    "pd.set_option('display.max_columns', None)"
   ]
  },
  {
   "cell_type": "code",
   "execution_count": null,
   "id": "ab0dabf9",
   "metadata": {},
   "outputs": [],
   "source": [
    "df_final.head()\n",
    "df_final.shape\n",
    "df_final.info()"
   ]
  },
  {
   "cell_type": "code",
   "execution_count": null,
   "id": "e20a56ab",
   "metadata": {},
   "outputs": [],
   "source": [
    "# Change data types to help with memory management\n",
    "\n",
    "df_final.astype({'order_id': 'int32'}).dtypes\n",
    "df_final.astype({'order_number': 'int32'}).dtypes\n",
    "df_final.astype({'order_number': 'int32'}).dtypes\n",
    "df_final.astype({'orders_day_of_week': 'int16'}).dtypes\n",
    "df_final.astype({'order_hour_of_day': 'int16'}).dtypes\n",
    "df_final.astype({'days_since_prior_order': 'float16'}).dtypes\n",
    "df_final.astype({'product_id': 'int16'}).dtypes\n",
    "df_final.astype({'add_to_cart_order': 'int32'}).dtypes\n",
    "df_final.astype({'reordered': 'int32'}).dtypes\n",
    "df_final.astype({'department_id': 'float16'}).dtypes\n",
    "df_final.astype({'prices': 'float16'}).dtypes\n",
    "df_final.astype({'max_order': 'int32'}).dtypes\n",
    "df_final.astype({'orders_mean_price': 'float16'}).dtypes\n",
    "df_final.astype({'customer_order_frequency': 'float16'}).dtypes\n",
    "df_final.astype({'age': 'int16'}).dtypes\n",
    "df_final.astype({'dependants_number': 'int16'}).dtypes\n",
    "df_final.astype({'income': 'int32'}).dtypes"
   ]
  },
  {
   "cell_type": "code",
   "execution_count": 8,
   "id": "097f6dc9",
   "metadata": {},
   "outputs": [],
   "source": [
    "# Drop columns 'Unnamed: 0_x', 'Unnamed: 0_y', 'aisle_id', '_merge', 'first_name' and 'last_name' as they are\n",
    "# not useful for our analysis.\n",
    "\n",
    "df_final = df_final.drop(columns = ['Unnamed: 0_x', 'Unnamed: 0_y', 'aisle_id', '_merge', 'first_name', 'last_name'])"
   ]
  },
  {
   "cell_type": "code",
   "execution_count": null,
   "id": "ec141ca0",
   "metadata": {},
   "outputs": [],
   "source": [
    "df_final.shape"
   ]
  },
  {
   "cell_type": "markdown",
   "id": "c934542e",
   "metadata": {},
   "source": [
    "## Step 2 - Consider any security implications that might exist for this new data.\n",
    "\n",
    "The data set contains PII because there is a number of colums in the data set that could potentially be used individually or in combination to identify a particular person e.g., first_name, last_name, age, state, dependants_number, family_status. Anyone with access to this data can use it identify a specific person. My approach would be to ask the senior members in my team for advice and any action taken should be compliant with GDPR or any other relevant laws and regulations. I have already deleted the first_name and last_name columns as they were not useful to my analysis."
   ]
  },
  {
   "cell_type": "markdown",
   "id": "a86699c7",
   "metadata": {},
   "source": [
    "## Step 3A - Create a regional segmentation of the data. Create a “Region” column."
   ]
  },
  {
   "cell_type": "code",
   "execution_count": 10,
   "id": "aa43d1a9",
   "metadata": {},
   "outputs": [],
   "source": [
    "# Create a list of regions \n",
    "northeast=['Maine','New Hampshire','Vermont','Massachusetts','Rhode Island','Connecticut','New York','Pennsylvania','New Jersey']\n",
    "midwest=['Wisconsin','Michigan','Illinois','Indiana','Ohio','North Dakota','South Dakota','Nebraska','Kansas','Minnesota','Iowa','Missouri']\n",
    "south=['Delaware','Maryland','District of Columbia','Virginia','West Virginia','North Carolina','South Carolina','Georgia','Florida','Kentucky', 'Tennessee','Mississippi','Alabama','Oklahoma','Texas','Arkansas','Louisiana']\n",
    "west=['Idaho','Montana','Wyoming','Nevada','Utah','Colorado','Arizona','New Mexico','Alaska','Washington','Oregon','California','Hawaii']"
   ]
  },
  {
   "cell_type": "code",
   "execution_count": 11,
   "id": "611bd0f2",
   "metadata": {},
   "outputs": [],
   "source": [
    "# Create regional flags\n",
    "df_final.loc[df_final['state'].isin(northeast), 'region'] = 'Region_1_Northeast'\n",
    "df_final.loc[df_final['state'].isin(midwest), 'region'] = 'Region_2_Midwest'\n",
    "df_final.loc[df_final['state'].isin(south), 'region'] = 'Region_3_South'\n",
    "df_final.loc[df_final['state'].isin(west), 'region'] = 'Region_4_West'"
   ]
  },
  {
   "cell_type": "code",
   "execution_count": null,
   "id": "409e9e46",
   "metadata": {},
   "outputs": [],
   "source": [
    "df_final['region'].value_counts(dropna = False)"
   ]
  },
  {
   "cell_type": "markdown",
   "id": "4e7ab29f",
   "metadata": {},
   "source": [
    "## Step 3B - Determine whether there’s a difference in spending habits between the different U.S. regions."
   ]
  },
  {
   "cell_type": "code",
   "execution_count": null,
   "id": "25488a31",
   "metadata": {},
   "outputs": [],
   "source": [
    "# Create a crosstab between the 'region' and the 'spending_flag' column\n",
    "\n",
    "crosstab = pd.crosstab(df_final['region'], df_final['spending_flag'], dropna = False)"
   ]
  },
  {
   "cell_type": "markdown",
   "id": "ba2e691f",
   "metadata": {},
   "source": [
    "region\t           High spender\tLow spender\n",
    "region_1_northeast\t 108231\t     5620168\n",
    "region_2_midwest\t 156041\t     7447932\n",
    "region_3_south\t     199282\t     9965751\n",
    "region_4_west\t     160357\t     8140177"
   ]
  },
  {
   "cell_type": "code",
   "execution_count": null,
   "id": "b70135b3",
   "metadata": {},
   "outputs": [],
   "source": [
    "# Count unique user IDs\n",
    "\n",
    "df_final['user_id'].nunique()"
   ]
  },
  {
   "cell_type": "code",
   "execution_count": 15,
   "id": "45b27af6",
   "metadata": {},
   "outputs": [],
   "source": [
    "# Group user IDs, average and total price by region\n",
    "\n",
    "df_region_cust_price = df_final.groupby('region').agg({'user_id':['nunique'] ,'prices': ['mean', 'sum']})"
   ]
  },
  {
   "cell_type": "code",
   "execution_count": null,
   "id": "75c3b14f",
   "metadata": {},
   "outputs": [],
   "source": [
    "df_region_cust_price.head()"
   ]
  },
  {
   "cell_type": "markdown",
   "id": "d57b5b68",
   "metadata": {},
   "source": [
    "Region 3 - South has the highest number of customers. Regions 2 & 4 have a similar number of customers, whereas region 1 - Northeast has the lowest. The South region includes the highest number of States (17). In contrast, the Northeast region includes the lowest number of States (9). The South region's customer base is approximately 47% larger than the Northeast customer base.\n",
    "\n",
    "The South region has the highest revenue and the Northeast region the lowest.\n",
    "\n",
    "It is worth noting that the average spent per customer is highest in region 2 - Midwest (12.7) and the lowest in region 4 - West (11.3)."
   ]
  },
  {
   "cell_type": "markdown",
   "id": "3d75ec71",
   "metadata": {},
   "source": [
    "## Step 4 - Create an exclusion flag for low-activity customers"
   ]
  },
  {
   "cell_type": "code",
   "execution_count": 17,
   "id": "84fff739",
   "metadata": {},
   "outputs": [],
   "source": [
    "# Create an exclusion flag. Keep = 1, Exclude = 0\n",
    "\n",
    "df_final.loc[df_final['order_number']>= 5,'exclusion_flag'] = '1'"
   ]
  },
  {
   "cell_type": "code",
   "execution_count": 18,
   "id": "2e8e9580",
   "metadata": {},
   "outputs": [],
   "source": [
    "df_final.loc[df_final['order_number']< 5,'exclusion_flag'] = '0'"
   ]
  },
  {
   "cell_type": "code",
   "execution_count": 19,
   "id": "47bf374f",
   "metadata": {},
   "outputs": [],
   "source": [
    "# Create a data frame containing only the high-spending customers\n",
    "\n",
    "df_final_high_spenders = df_final[df_final['exclusion_flag'] == '1']"
   ]
  },
  {
   "cell_type": "code",
   "execution_count": 20,
   "id": "f43d4995",
   "metadata": {},
   "outputs": [],
   "source": [
    "# Create a data frame containing only the low-spending customers\n",
    "\n",
    "df_final_low_spenders = df_final[df_final['exclusion_flag'] == '0']"
   ]
  },
  {
   "cell_type": "code",
   "execution_count": null,
   "id": "eb47f2a8",
   "metadata": {},
   "outputs": [],
   "source": [
    "df_final_high_spenders.head()\n",
    "df_final_high_spenders.shape"
   ]
  },
  {
   "cell_type": "code",
   "execution_count": null,
   "id": "15990462",
   "metadata": {},
   "outputs": [],
   "source": [
    "df_final_low_spenders.head()\n",
    "df_final_low_spenders.shape"
   ]
  },
  {
   "cell_type": "code",
   "execution_count": 24,
   "id": "9d94e6a4",
   "metadata": {},
   "outputs": [],
   "source": [
    "# Export the newly created dataframe as final_low_spenders to pkl format\n",
    "\n",
    "df_final_low_spenders.to_pickle(os.path.join(path, '02 Data', 'Prepared Data', 'df_final_low_spenders.pkl'))"
   ]
  },
  {
   "cell_type": "markdown",
   "id": "e69291ea",
   "metadata": {},
   "source": [
    "### From this point onward, I will be using the df_final_high_spenders data frame for my analysis."
   ]
  },
  {
   "cell_type": "markdown",
   "id": "e5474f11",
   "metadata": {},
   "source": [
    "## Step 5 - Create a profiling variable based on age, income, certain goods in the “department_id” column, and number of dependents. "
   ]
  },
  {
   "cell_type": "markdown",
   "id": "8041d05e",
   "metadata": {},
   "source": [
    "## Age profile"
   ]
  },
  {
   "cell_type": "code",
   "execution_count": null,
   "id": "641604a3",
   "metadata": {},
   "outputs": [],
   "source": [
    "# Create conditions for Age profile\n",
    "\n",
    "df_final_high_spenders.loc[df_final_high_spenders['age'] > 61, 'age_group'] = 'Older'\n",
    "df_final_high_spenders.loc[(df_final_high_spenders['age'] <= 59) & (df_final_high_spenders['age'] > 41 ), 'age_group']= 'Middle-aged'\n",
    "df_final_high_spenders.loc[df_final_high_spenders['age'] <= 40, 'age_group'] = 'Young'"
   ]
  },
  {
   "cell_type": "code",
   "execution_count": null,
   "id": "bff418f1",
   "metadata": {},
   "outputs": [],
   "source": [
    "df_final_high_spenders['age_group'].value_counts(dropna=False)"
   ]
  },
  {
   "cell_type": "markdown",
   "id": "60299cf4",
   "metadata": {},
   "source": [
    "## Income profile"
   ]
  },
  {
   "cell_type": "code",
   "execution_count": null,
   "id": "43f93595",
   "metadata": {},
   "outputs": [],
   "source": [
    "# Create conditions for Income profile\n",
    "df_final_high_spenders.loc[df_final_high_spenders['income'] > 90001, 'income_group'] = 'High income'\n",
    "df_final_high_spenders.loc[(df_final_high_spenders['income'] <= 90000) & (df_final_high_spenders['income'] > 49999 ), 'income_group']= 'Average income'\n",
    "df_final_high_spenders.loc[df_final_high_spenders['income'] <= 49999, 'income_group'] = 'Lower income'"
   ]
  },
  {
   "cell_type": "code",
   "execution_count": null,
   "id": "2afe6c5d",
   "metadata": {},
   "outputs": [],
   "source": [
    "df_final_high_spenders['income_group'].value_counts(dropna=False)"
   ]
  },
  {
   "cell_type": "markdown",
   "id": "5ba6a892",
   "metadata": {},
   "source": [
    "## Customer with baby items profile"
   ]
  },
  {
   "cell_type": "code",
   "execution_count": 33,
   "id": "d27f531a",
   "metadata": {},
   "outputs": [],
   "source": [
    "# Create conditions for customer with baby items profile. Yes = 1, No = 0\n",
    "\n",
    "def baby(row):\n",
    "\n",
    "    if row['department_id'] == 18:\n",
    "        return 1\n",
    "    else: return 0"
   ]
  },
  {
   "cell_type": "code",
   "execution_count": null,
   "id": "1e7a5c77",
   "metadata": {},
   "outputs": [],
   "source": [
    "df_final_high_spenders['cust_baby_items'] = df_final_high_spenders.apply(baby, axis=1)"
   ]
  },
  {
   "cell_type": "code",
   "execution_count": null,
   "id": "ea986ee1",
   "metadata": {},
   "outputs": [],
   "source": [
    "df_final_high_spenders['cust_baby_items'].value_counts()"
   ]
  },
  {
   "cell_type": "code",
   "execution_count": null,
   "id": "e1d350d0",
   "metadata": {},
   "outputs": [],
   "source": [
    "df_final_high_spenders.info()"
   ]
  },
  {
   "cell_type": "code",
   "execution_count": null,
   "id": "836ab1d9",
   "metadata": {},
   "outputs": [],
   "source": [
    "# Change data types to help with memory management\n",
    "\n",
    "df_final_high_spenders.astype({'order_id': 'int32'}).dtypes\n",
    "df_final_high_spenders.astype({'order_number': 'int32'}).dtypes\n",
    "df_final_high_spenders.astype({'order_number': 'int32'}).dtypes\n",
    "df_final_high_spenders.astype({'orders_day_of_week': 'int16'}).dtypes\n",
    "df_final_high_spenders.astype({'order_hour_of_day': 'int16'}).dtypes\n",
    "df_final_high_spenders.astype({'days_since_prior_order': 'float16'}).dtypes\n",
    "df_final_high_spenders.astype({'product_id': 'int16'}).dtypes\n",
    "df_final_high_spenders.astype({'add_to_cart_order': 'int32'}).dtypes\n",
    "df_final_high_spenders.astype({'reordered': 'int32'}).dtypes\n",
    "df_final_high_spenders.astype({'department_id': 'float16'}).dtypes\n",
    "df_final_high_spenders.astype({'prices': 'float16'}).dtypes\n",
    "df_final_high_spenders.astype({'max_order': 'int32'}).dtypes\n",
    "df_final_high_spenders.astype({'orders_mean_price': 'float16'}).dtypes\n",
    "df_final_high_spenders.astype({'customer_order_frequency': 'float16'}).dtypes\n",
    "df_final_high_spenders.astype({'age': 'int16'}).dtypes\n",
    "df_final_high_spenders.astype({'dependants_number': 'int16'}).dtypes\n",
    "df_final_high_spenders.astype({'income': 'int32'}).dtypes\n",
    "df_final_high_spenders.astype({'cust_baby_items': 'int32'}).dtypes"
   ]
  },
  {
   "cell_type": "code",
   "execution_count": 87,
   "id": "dac60438",
   "metadata": {},
   "outputs": [],
   "source": [
    "# Create conditions for customer with deli items profile. Yes = 1, No = 0\n",
    "\n",
    "def deli(row):\n",
    "\n",
    "    if row['department_id'] == 20:\n",
    "        return 1\n",
    "    else: return 0"
   ]
  },
  {
   "cell_type": "code",
   "execution_count": null,
   "id": "3fa677e5",
   "metadata": {},
   "outputs": [],
   "source": [
    "df_final_high_spenders['deli'] = df_final_high_spenders.apply(deli, axis=1)"
   ]
  },
  {
   "cell_type": "code",
   "execution_count": null,
   "id": "f72f9f17",
   "metadata": {},
   "outputs": [],
   "source": [
    "df_final_high_spenders['deli'].value_counts()"
   ]
  },
  {
   "cell_type": "code",
   "execution_count": 99,
   "id": "14d6909b",
   "metadata": {},
   "outputs": [],
   "source": [
    "# Create conditions for customer with alcohol items profile. Yes = 1, No = 0\n",
    "\n",
    "def alcohol(row):\n",
    "\n",
    "    if row['department_id'] == 5:\n",
    "        return 1\n",
    "    else: return 0"
   ]
  },
  {
   "cell_type": "code",
   "execution_count": null,
   "id": "12871808",
   "metadata": {},
   "outputs": [],
   "source": [
    "df_final_high_spenders['alcohol'] = df_final_high_spenders.apply(alcohol, axis=1)"
   ]
  },
  {
   "cell_type": "code",
   "execution_count": null,
   "id": "934a5932",
   "metadata": {},
   "outputs": [],
   "source": [
    "df_final_high_spenders['alcohol'].value_counts()"
   ]
  },
  {
   "cell_type": "code",
   "execution_count": null,
   "id": "f58c53d4",
   "metadata": {},
   "outputs": [],
   "source": [
    "df_final_high_spenders.head()"
   ]
  },
  {
   "cell_type": "markdown",
   "id": "e06aff4b",
   "metadata": {},
   "source": [
    "## Step 6 - Create a visualization to show the distribution of profiles."
   ]
  },
  {
   "cell_type": "code",
   "execution_count": 40,
   "id": "a63e8bed",
   "metadata": {},
   "outputs": [],
   "source": [
    "# Create a random sample\n",
    "\n",
    "np.random.seed(4)\n",
    "dev = np.random.rand(len(df_final_high_spenders)) <= 0.7"
   ]
  },
  {
   "cell_type": "code",
   "execution_count": 41,
   "id": "6d26fe0a",
   "metadata": {},
   "outputs": [],
   "source": [
    "# Split the df_final_high_spenders dataframe into two samples. Store 70% in the dataframe big and 30% in small\n",
    "\n",
    "big = df_final_high_spenders[dev]\n",
    "small = df_final_high_spenders[~dev]"
   ]
  },
  {
   "cell_type": "code",
   "execution_count": null,
   "id": "f6713ec5",
   "metadata": {},
   "outputs": [],
   "source": [
    "# Check the results\n",
    "\n",
    "len(df_final_high_spenders)\n",
    "len(big) + len(small)"
   ]
  },
  {
   "cell_type": "code",
   "execution_count": 44,
   "id": "49d44847",
   "metadata": {},
   "outputs": [],
   "source": [
    "# Reduce the small sample to necessary columns\n",
    "\n",
    "df_2 = small[['user_id','prices','order_hour_of_day','department_id','age','age_group','income','income_group','loyalty_flag','state','family_status','dependants_number','cust_baby_items','order_frequency_flag', 'price_range_loc']]"
   ]
  },
  {
   "cell_type": "code",
   "execution_count": 45,
   "id": "068456d3",
   "metadata": {},
   "outputs": [],
   "source": [
    "# Create a subset with unique user_id\n",
    "\n",
    "df_unique_id = df_2.drop_duplicates(subset='user_id')"
   ]
  },
  {
   "cell_type": "code",
   "execution_count": 52,
   "id": "53b3afd3",
   "metadata": {},
   "outputs": [
    {
     "data": {
      "text/plain": [
       "Text(0, 0.5, 'number of customers')"
      ]
     },
     "execution_count": 52,
     "metadata": {},
     "output_type": "execute_result"
    },
    {
     "data": {
      "image/png": "[encoded data removed]",
      "text/plain": [
       "<Figure size 432x288 with 1 Axes>"
      ]
     },
     "metadata": {
      "needs_background": "light"
     },
     "output_type": "display_data"
    }
   ],
   "source": [
    "# Create a bar chart for the 'Age_group' profile\n",
    "\n",
    "df_unique_id['age_group'].value_counts().plot.bar()\n",
    "plt.title('Distribution of customer age', fontsize=20)\n",
    "plt.xlabel('age group', fontsize=15)\n",
    "plt.ylabel('number of customers', fontsize=15)"
   ]
  },
  {
   "cell_type": "code",
   "execution_count": 53,
   "id": "54bfee32",
   "metadata": {},
   "outputs": [
    {
     "data": {
      "image/png": "[encoded data removed]",
      "text/plain": [
       "<Figure size 432x288 with 1 Axes>"
      ]
     },
     "metadata": {
      "needs_background": "light"
     },
     "output_type": "display_data"
    }
   ],
   "source": [
    "# Save bar chart in Jupyter's memory\n",
    "\n",
    "bar = df_unique_id['age_group'].value_counts().plot.bar()"
   ]
  },
  {
   "cell_type": "code",
   "execution_count": 54,
   "id": "8a775c3b",
   "metadata": {},
   "outputs": [],
   "source": [
    "# Export bar chart\n",
    "\n",
    "bar.figure.savefig(os.path.join(path, '04 Analysis', 'Visualisations', '4.10_bar_age_groups.png'))"
   ]
  },
  {
   "cell_type": "code",
   "execution_count": 55,
   "id": "a5826335",
   "metadata": {},
   "outputs": [
    {
     "data": {
      "text/plain": [
       "Text(0, 0.5, 'number of customers')"
      ]
     },
     "execution_count": 55,
     "metadata": {},
     "output_type": "execute_result"
    },
    {
     "data": {
      "image/png": "[encoded data removed]",
      "text/plain": [
       "<Figure size 432x288 with 1 Axes>"
      ]
     },
     "metadata": {
      "needs_background": "light"
     },
     "output_type": "display_data"
    }
   ],
   "source": [
    "# Create a bar chart for the 'Income_group' profile\n",
    "\n",
    "df_unique_id['income_group'].value_counts().plot.bar()\n",
    "plt.title('Distribution of customer income', fontsize=20)\n",
    "plt.xlabel('income group', fontsize=15)\n",
    "plt.ylabel('number of customers', fontsize=15)"
   ]
  },
  {
   "cell_type": "code",
   "execution_count": 56,
   "id": "993bd031",
   "metadata": {},
   "outputs": [
    {
     "data": {
      "image/png": "[encoded data removed]",
      "text/plain": [
       "<Figure size 432x288 with 1 Axes>"
      ]
     },
     "metadata": {
      "needs_background": "light"
     },
     "output_type": "display_data"
    }
   ],
   "source": [
    "# Save bar chart in Jupyter's memory\n",
    "\n",
    "bar = df_unique_id['income_group'].value_counts().plot.bar()"
   ]
  },
  {
   "cell_type": "code",
   "execution_count": 57,
   "id": "35d21cb5",
   "metadata": {},
   "outputs": [],
   "source": [
    "# Export bar chart\n",
    "\n",
    "bar.figure.savefig(os.path.join(path, '04 Analysis', 'Visualisations', '4.10_bar_income_groups.png'))"
   ]
  },
  {
   "cell_type": "code",
   "execution_count": 85,
   "id": "45da72f4",
   "metadata": {},
   "outputs": [
    {
     "data": {
      "text/plain": [
       "<AxesSubplot:>"
      ]
     },
     "execution_count": 85,
     "metadata": {},
     "output_type": "execute_result"
    },
    {
     "data": {
      "image/png": "[encoded data removed]",
      "text/plain": [
       "<Figure size 432x288 with 1 Axes>"
      ]
     },
     "metadata": {},
     "output_type": "display_data"
    }
   ],
   "source": [
    "# Create a pie chart for the Customer with baby' profile\n",
    "cust_baby_item = df_final_high_spenders['cust_baby_items'].value_counts()\n",
    "pie = cust_baby_item.plot.pie(label='', labels=['Never bought baby items', 'Has bought baby items'],autopct=('%1.f%%'), textprops={'fontsize': 15})\n",
    "pie"
   ]
  },
  {
   "cell_type": "code",
   "execution_count": 98,
   "id": "3b385acf",
   "metadata": {},
   "outputs": [],
   "source": [
    "# Export pie chart\n",
    "pie.figure.savefig(os.path.join(path, '04 Analysis', 'Visualisations', '4.10_pie_cust_with_baby_items_2.png'))"
   ]
  },
  {
   "cell_type": "code",
   "execution_count": 97,
   "id": "fee3be4a",
   "metadata": {},
   "outputs": [
    {
     "data": {
      "text/plain": [
       "<AxesSubplot:>"
      ]
     },
     "execution_count": 97,
     "metadata": {},
     "output_type": "execute_result"
    },
    {
     "data": {
      "image/png": "[encoded data removed]",
      "text/plain": [
       "<Figure size 432x288 with 1 Axes>"
      ]
     },
     "metadata": {},
     "output_type": "display_data"
    }
   ],
   "source": [
    "# Create a pie chart for the Deli profile\n",
    "deli_cust = df_final_high_spenders['deli'].value_counts()\n",
    "pie = deli_cust.plot.pie(label='', labels=['Never bought deli items', 'Has bought deli items'],autopct=('%1.f%%'), textprops={'fontsize': 15})\n",
    "pie"
   ]
  },
  {
   "cell_type": "code",
   "execution_count": null,
   "id": "91b7a96e",
   "metadata": {},
   "outputs": [],
   "source": [
    "# Export pie chart\n",
    "pie.figure.savefig(os.path.join(path, '04 Analysis', 'Visualisations', '4.10_pie_cust_with_deli_items.png'))"
   ]
  },
  {
   "cell_type": "code",
   "execution_count": 104,
   "id": "54ee36f7",
   "metadata": {},
   "outputs": [
    {
     "data": {
      "text/plain": [
       "<AxesSubplot:>"
      ]
     },
     "execution_count": 104,
     "metadata": {},
     "output_type": "execute_result"
    },
    {
     "data": {
      "image/png": "[encoded data removed]",
      "text/plain": [
       "<Figure size 432x288 with 1 Axes>"
      ]
     },
     "metadata": {},
     "output_type": "display_data"
    }
   ],
   "source": [
    "# Create a pie chart for the Alcohol profile\n",
    "alcohol_cust = df_final_high_spenders['alcohol'].value_counts()\n",
    "pie = cust_baby_item.plot.pie(label='', labels=['Never bought alcohol', 'Has bought alcohol'],autopct=('%1.f%%'), textprops={'fontsize': 15})\n",
    "pie"
   ]
  },
  {
   "cell_type": "code",
   "execution_count": 105,
   "id": "271425bf",
   "metadata": {},
   "outputs": [],
   "source": [
    "# Export pie chart\n",
    "pie.figure.savefig(os.path.join(path, '04 Analysis', 'Visualisations', '4.10_pie_cust_with_alcohol.png'))"
   ]
  },
  {
   "cell_type": "code",
   "execution_count": 62,
   "id": "c93e6cf3",
   "metadata": {},
   "outputs": [
    {
     "data": {
      "text/plain": [
       "<AxesSubplot:>"
      ]
     },
     "execution_count": 62,
     "metadata": {},
     "output_type": "execute_result"
    },
    {
     "data": {
      "image/png": "[encoded data removed]",
      "text/plain": [
       "<Figure size 432x288 with 1 Axes>"
      ]
     },
     "metadata": {
      "needs_background": "light"
     },
     "output_type": "display_data"
    }
   ],
   "source": [
    "# Create a bar chart for busiest days of the week Q1\n",
    "\n",
    "df_final_high_spenders['orders_day_of_week'].value_counts().plot.bar()"
   ]
  },
  {
   "cell_type": "code",
   "execution_count": 82,
   "id": "795f717e",
   "metadata": {},
   "outputs": [
    {
     "data": {
      "text/plain": [
       "<AxesSubplot:>"
      ]
     },
     "execution_count": 82,
     "metadata": {},
     "output_type": "execute_result"
    },
    {
     "data": {
      "image/png": "[encoded data removed]",
      "text/plain": [
       "<Figure size 432x288 with 1 Axes>"
      ]
     },
     "metadata": {
      "needs_background": "light"
     },
     "output_type": "display_data"
    }
   ],
   "source": [
    "# Use the sort_index() function to rearrange the bars in the chart\n",
    "\n",
    "df_final_high_spenders['orders_day_of_week'].value_counts().sort_index().plot.bar()"
   ]
  },
  {
   "cell_type": "code",
   "execution_count": 83,
   "id": "a508f9f1",
   "metadata": {},
   "outputs": [
    {
     "data": {
      "text/plain": [
       "<AxesSubplot:>"
      ]
     },
     "execution_count": 83,
     "metadata": {},
     "output_type": "execute_result"
    },
    {
     "data": {
      "image/png": "[encoded data removed]",
      "text/plain": [
       "<Figure size 432x288 with 1 Axes>"
      ]
     },
     "metadata": {
      "needs_background": "light"
     },
     "output_type": "display_data"
    }
   ],
   "source": [
    "# Create a bar chart for busiest hours of the week Q1\n",
    "\n",
    "df_final_high_spenders['order_hour_of_day'].value_counts().sort_index().plot.bar()"
   ]
  },
  {
   "cell_type": "code",
   "execution_count": 66,
   "id": "73f5197a",
   "metadata": {},
   "outputs": [
    {
     "data": {
      "image/png": "[encoded data removed]",
      "text/plain": [
       "<Figure size 432x288 with 1 Axes>"
      ]
     },
     "metadata": {
      "needs_background": "light"
     },
     "output_type": "display_data"
    }
   ],
   "source": [
    "# Create a line chart showing product prices per hour of day Q2\n",
    "\n",
    "line = sns.lineplot(data = df_2, x = 'order_hour_of_day',y = 'prices')"
   ]
  },
  {
   "cell_type": "code",
   "execution_count": 68,
   "id": "097a4c17",
   "metadata": {
    "scrolled": true
   },
   "outputs": [
    {
     "data": {
      "text/plain": [
       "<AxesSubplot:>"
      ]
     },
     "execution_count": 68,
     "metadata": {},
     "output_type": "execute_result"
    },
    {
     "data": {
      "image/png": "[encoded data removed]",
      "text/plain": [
       "<Figure size 432x288 with 1 Axes>"
      ]
     },
     "metadata": {
      "needs_background": "light"
     },
     "output_type": "display_data"
    }
   ],
   "source": [
    "# Create a bar chart showing number of departmental sales Q4\n",
    "\n",
    "df_final_high_spenders['department_id'].value_counts().plot.bar()"
   ]
  },
  {
   "cell_type": "code",
   "execution_count": 72,
   "id": "399e25e8",
   "metadata": {},
   "outputs": [
    {
     "data": {
      "text/plain": [
       "<AxesSubplot:>"
      ]
     },
     "execution_count": 72,
     "metadata": {},
     "output_type": "execute_result"
    },
    {
     "data": {
      "image/png": "[encoded data removed]",
      "text/plain": [
       "<Figure size 432x288 with 1 Axes>"
      ]
     },
     "metadata": {},
     "output_type": "display_data"
    }
   ],
   "source": [
    "# Create a pie chart for the loyalty flag Q5a\n",
    "loyalty_flag = df_unique_id['loyalty_flag'].value_counts()\n",
    "pie = loyalty_flag.plot.pie(label='', labels=['Loyal customer', 'Regular customer', 'New customer'],autopct=('%1.f%%'), textprops={'fontsize': 15})\n",
    "pie"
   ]
  },
  {
   "cell_type": "code",
   "execution_count": 73,
   "id": "964e625e",
   "metadata": {},
   "outputs": [
    {
     "data": {
      "text/html": [
       "<div>\n",
       "<style scoped>\n",
       "    .dataframe tbody tr th:only-of-type {\n",
       "        vertical-align: middle;\n",
       "    }\n",
       "\n",
       "    .dataframe tbody tr th {\n",
       "        vertical-align: top;\n",
       "    }\n",
       "\n",
       "    .dataframe thead tr th {\n",
       "        text-align: left;\n",
       "    }\n",
       "\n",
       "    .dataframe thead tr:last-of-type th {\n",
       "        text-align: right;\n",
       "    }\n",
       "</style>\n",
       "<table border=\"1\" class=\"dataframe\">\n",
       "  <thead>\n",
       "    <tr>\n",
       "      <th></th>\n",
       "      <th>order_number</th>\n",
       "      <th>prices</th>\n",
       "      <th>days_since_prior_order</th>\n",
       "    </tr>\n",
       "    <tr>\n",
       "      <th></th>\n",
       "      <th>mean</th>\n",
       "      <th>mean</th>\n",
       "      <th>mean</th>\n",
       "    </tr>\n",
       "    <tr>\n",
       "      <th>loyalty_flag</th>\n",
       "      <th></th>\n",
       "      <th></th>\n",
       "      <th></th>\n",
       "    </tr>\n",
       "  </thead>\n",
       "  <tbody>\n",
       "    <tr>\n",
       "      <th>Loyal customer</th>\n",
       "      <td>34.939569</td>\n",
       "      <td>10.385370</td>\n",
       "      <td>5.954532</td>\n",
       "    </tr>\n",
       "    <tr>\n",
       "      <th>New customer</th>\n",
       "      <td>6.520857</td>\n",
       "      <td>13.283018</td>\n",
       "      <td>17.708879</td>\n",
       "    </tr>\n",
       "    <tr>\n",
       "      <th>Regular customer</th>\n",
       "      <td>14.769666</td>\n",
       "      <td>12.668943</td>\n",
       "      <td>11.917584</td>\n",
       "    </tr>\n",
       "  </tbody>\n",
       "</table>\n",
       "</div>"
      ],
      "text/plain": [
       "                 order_number     prices days_since_prior_order\n",
       "                         mean       mean                   mean\n",
       "loyalty_flag                                                   \n",
       "Loyal customer      34.939569  10.385370               5.954532\n",
       "New customer         6.520857  13.283018              17.708879\n",
       "Regular customer    14.769666  12.668943              11.917584"
      ]
     },
     "execution_count": 73,
     "metadata": {},
     "output_type": "execute_result"
    }
   ],
   "source": [
    "# Explore ordering habits of high spenders based on loyalty status Q5b\n",
    "\n",
    "df_final_high_spenders.groupby('loyalty_flag').agg({'order_number': ['mean'], 'prices': ['mean'], 'days_since_prior_order': ['mean']})"
   ]
  },
  {
   "cell_type": "code",
   "execution_count": null,
   "id": "2e9ce6ca",
   "metadata": {},
   "outputs": [],
   "source": [
    "# Explore ordering habits of high spenders based on region Q5c\n",
    "\n",
    "df_final_high_spenders.groupby('region').agg({'order_number': ['mean'], 'prices': ['mean'], 'days_since_prior_order': ['mean']})"
   ]
  },
  {
   "cell_type": "code",
   "execution_count": null,
   "id": "68193609",
   "metadata": {},
   "outputs": [],
   "source": [
    "# Number of customers per region\n",
    "\n",
    "\n",
    "df_final_high_spenders.groupby('region').agg({'user_id': ['count']})"
   ]
  },
  {
   "cell_type": "code",
   "execution_count": 54,
   "id": "74193928",
   "metadata": {},
   "outputs": [],
   "source": [
    "# Create crosstab 1. with customers per region and 2. high paying customers per region with order count and money spent\n",
    "\n",
    "crosstab = pd.crosstab(df_final_high_spenders['region'],df_final_high_spenders['spending_flag'], dropna = False)\n",
    "crosstab.to_clipboard()\n",
    "crosstab = pd.crosstab(df_final_high_spenders['region'],df_final_high_spenders['spending_flag'], dropna = False)\n",
    "crosstab = pd.crosstab(df_final_high_spenders['region'],df_final_high_spenders['loyalty_flag'], dropna = False)\n",
    "crosstab.to_clipboard()\n"
   ]
  },
  {
   "cell_type": "code",
   "execution_count": 75,
   "id": "3fed4bfc",
   "metadata": {},
   "outputs": [
    {
     "data": {
      "text/plain": [
       "<AxesSubplot:>"
      ]
     },
     "execution_count": 75,
     "metadata": {},
     "output_type": "execute_result"
    },
    {
     "data": {
      "image/png": "[encoded data removed]",
      "text/plain": [
       "<Figure size 432x288 with 1 Axes>"
      ]
     },
     "metadata": {
      "needs_background": "light"
     },
     "output_type": "display_data"
    }
   ],
   "source": [
    "# Explore the connection between age and family status in terms of ordering habits Q5d\n",
    "\n",
    "df_final_high_spenders['age_group'].value_counts().plot.bar()"
   ]
  },
  {
   "cell_type": "code",
   "execution_count": 76,
   "id": "7b3609d6",
   "metadata": {},
   "outputs": [
    {
     "data": {
      "text/plain": [
       "<AxesSubplot:>"
      ]
     },
     "execution_count": 76,
     "metadata": {},
     "output_type": "execute_result"
    },
    {
     "data": {
      "image/png": "[encoded data removed]",
      "text/plain": [
       "<Figure size 432x288 with 1 Axes>"
      ]
     },
     "metadata": {
      "needs_background": "light"
     },
     "output_type": "display_data"
    }
   ],
   "source": [
    "# Explore the connection between age and family status in terms of ordering habits Q5d\n",
    "\n",
    "df_final_high_spenders['family_status'].value_counts().plot.bar()"
   ]
  },
  {
   "cell_type": "markdown",
   "id": "6fe52ee0",
   "metadata": {},
   "source": [
    "## Step 7 - Aggregate the max, mean, and min variables on a customer-profile level for usage frequency and expenditure."
   ]
  },
  {
   "cell_type": "markdown",
   "id": "9dd08013",
   "metadata": {},
   "source": [
    "### Age group profile"
   ]
  },
  {
   "cell_type": "code",
   "execution_count": null,
   "id": "4f811088",
   "metadata": {},
   "outputs": [],
   "source": [
    "df_final_high_spenders.groupby(['age_group']).agg({'customer_order_frequency':['mean', 'min', 'max'], 'prices':['mean', 'min', 'max']})"
   ]
  },
  {
   "cell_type": "markdown",
   "id": "5d599068",
   "metadata": {},
   "source": [
    "### Income group profile"
   ]
  },
  {
   "cell_type": "code",
   "execution_count": null,
   "id": "9a588862",
   "metadata": {},
   "outputs": [],
   "source": [
    "df_final_high_spenders.groupby(['income_group']).agg({'customer_order_frequency':['mean', 'min', 'max'], 'prices':['mean', 'min', 'max']})"
   ]
  },
  {
   "cell_type": "markdown",
   "id": "b828d145",
   "metadata": {},
   "source": [
    "### Baby items profile"
   ]
  },
  {
   "cell_type": "code",
   "execution_count": null,
   "id": "544f247e",
   "metadata": {},
   "outputs": [],
   "source": [
    "df_final_high_spenders.groupby(['cust_baby_items']).agg({'customer_order_frequency':['mean', 'min', 'max'], 'prices':['mean', 'min', 'max']})"
   ]
  },
  {
   "cell_type": "code",
   "execution_count": null,
   "id": "3485ddc0",
   "metadata": {},
   "outputs": [],
   "source": [
    "# Gender breakdown of frequent customers\n",
    "\n",
    "df_final_high_spenders['gender'].value_counts(dropna = False)"
   ]
  },
  {
   "cell_type": "code",
   "execution_count": null,
   "id": "607a4dc4",
   "metadata": {},
   "outputs": [],
   "source": [
    "# Age breakdown of frequent customers\n",
    "\n",
    "df_final_high_spenders['age'].value_counts(dropna = False)"
   ]
  },
  {
   "cell_type": "code",
   "execution_count": null,
   "id": "7042f1b1",
   "metadata": {},
   "outputs": [],
   "source": [
    "df_final_high_spenders['dependants_number'].value_counts(dropna = False)"
   ]
  },
  {
   "cell_type": "code",
   "execution_count": null,
   "id": "924bda82",
   "metadata": {},
   "outputs": [],
   "source": [
    "df_final_high_spenders['family_status'].value_counts(dropna = False)"
   ]
  },
  {
   "cell_type": "code",
   "execution_count": null,
   "id": "f447062e",
   "metadata": {},
   "outputs": [],
   "source": [
    "df_final_high_spenders['income'].value_counts(dropna = False)"
   ]
  },
  {
   "cell_type": "code",
   "execution_count": 90,
   "id": "db12a2e6",
   "metadata": {},
   "outputs": [
    {
     "data": {
      "text/plain": [
       "<AxesSubplot:xlabel='age', ylabel='income'>"
      ]
     },
     "execution_count": 90,
     "metadata": {},
     "output_type": "execute_result"
    },
    {
     "data": {
      "image/png": "[encoded data removed]",
      "text/plain": [
       "<Figure size 432x288 with 1 Axes>"
      ]
     },
     "metadata": {
      "needs_background": "light"
     },
     "output_type": "display_data"
    }
   ],
   "source": [
    "# Create a scatterplot of the “age” and “income” columns\n",
    "\n",
    "sns.scatterplot(x = 'age', y = 'income',data = df_final_high_spenders)"
   ]
  },
  {
   "cell_type": "code",
   "execution_count": 91,
   "id": "b8ae862b",
   "metadata": {},
   "outputs": [
    {
     "data": {
      "image/png": "[encoded data removed]",
      "text/plain": [
       "<Figure size 432x288 with 1 Axes>"
      ]
     },
     "metadata": {
      "needs_background": "light"
     },
     "output_type": "display_data"
    }
   ],
   "source": [
    "# Create a Line Chart (y = dependants_number, x = age)\n",
    "\n",
    "line = sns.lineplot(data = df_final_high_spenders, x = 'age',y = 'dependants_number')"
   ]
  },
  {
   "cell_type": "code",
   "execution_count": null,
   "id": "1751c141",
   "metadata": {},
   "outputs": [],
   "source": [
    "df_final['price_range_loc'].value_counts(dropna = False)"
   ]
  },
  {
   "cell_type": "code",
   "execution_count": 56,
   "id": "46799448",
   "metadata": {},
   "outputs": [],
   "source": [
    "# Create a subset with unique user_id. Q5c\n",
    "\n",
    "df_unique_id_2 = df_final_high_spenders.drop_duplicates(subset='user_id')"
   ]
  },
  {
   "cell_type": "code",
   "execution_count": 59,
   "id": "c7fdbf9e",
   "metadata": {},
   "outputs": [],
   "source": [
    "# Group user IDs, average and total price by region for df_final_high_spenders. Q5c\n",
    "\n",
    "df_region_cust_price = df_final_high_spenders.groupby('region').agg({'user_id':['nunique'] ,'prices': ['mean', 'sum']})"
   ]
  },
  {
   "cell_type": "code",
   "execution_count": null,
   "id": "9dc9f0a0",
   "metadata": {},
   "outputs": [],
   "source": [
    "df_region_cust_price"
   ]
  },
  {
   "cell_type": "code",
   "execution_count": 64,
   "id": "99918cee",
   "metadata": {},
   "outputs": [],
   "source": [
    "# Relationship between Age group and Number of Orders. Q5d\n",
    "\n",
    "crosstab = pd.crosstab(df_final_high_spenders['age_group'],df_final_high_spenders['order_number'], dropna = False)\n",
    "crosstab.to_clipboard()"
   ]
  },
  {
   "cell_type": "code",
   "execution_count": 66,
   "id": "2bad8d7e",
   "metadata": {},
   "outputs": [],
   "source": [
    "# Relationship between Age group and Total spend. Q5d\n",
    "\n",
    "crosstab = pd.crosstab(df_final_high_spenders['age_group'],df_final_high_spenders['prices'], dropna = False)\n",
    "crosstab.to_clipboard()"
   ]
  },
  {
   "cell_type": "code",
   "execution_count": 68,
   "id": "f173aca7",
   "metadata": {},
   "outputs": [],
   "source": [
    "# Relationship between Age group and Family status. Q5d\n",
    "\n",
    "crosstab = pd.crosstab(df_final_high_spenders['age_group'],df_final_high_spenders['family_status'], dropna = False)\n",
    "crosstab.to_clipboard()"
   ]
  },
  {
   "cell_type": "code",
   "execution_count": 70,
   "id": "46ba2f97",
   "metadata": {},
   "outputs": [],
   "source": [
    "# Relationship between Total spend and Family status. Q5d\n",
    "\n",
    "crosstab = pd.crosstab(df_final_high_spenders['family_status'],df_final_high_spenders['prices'], dropna = False)\n",
    "crosstab.to_clipboard()"
   ]
  },
  {
   "cell_type": "code",
   "execution_count": null,
   "id": "1d746aed",
   "metadata": {},
   "outputs": [],
   "source": [
    "# Relationship between Order frequency, Prices and Family status. Q5d\n",
    "\n",
    "df_final_high_spenders.groupby(['family_status']).agg({'customer_order_frequency':['mean', 'min', 'max'], 'prices':['mean', 'min', 'max']})"
   ]
  },
  {
   "cell_type": "code",
   "execution_count": 77,
   "id": "a8a60485",
   "metadata": {},
   "outputs": [],
   "source": [
    "# Relationship between Price range and Family status. Q5e\n",
    "\n",
    "crosstab = pd.crosstab(df_final_high_spenders['family_status'],df_final_high_spenders['price_range_loc'], dropna = False)\n",
    "crosstab.to_clipboard()"
   ]
  },
  {
   "cell_type": "code",
   "execution_count": 81,
   "id": "36c72427",
   "metadata": {},
   "outputs": [],
   "source": [
    "# Relationship between income and Family status. Q5e\n",
    "\n",
    "crosstab = pd.crosstab(df_final_high_spenders['family_status'],df_final_high_spenders['income_group'], dropna = False)\n",
    "crosstab.to_clipboard()"
   ]
  },
  {
   "cell_type": "code",
   "execution_count": 83,
   "id": "7e409634",
   "metadata": {},
   "outputs": [],
   "source": [
    "# Relationship between income and price range. Q5e\n",
    "\n",
    "crosstab = pd.crosstab(df_final_high_spenders['income_group'],df_final_high_spenders['price_range_loc'], dropna = False)\n",
    "crosstab.to_clipboard()"
   ]
  },
  {
   "cell_type": "code",
   "execution_count": null,
   "id": "c9817a4a",
   "metadata": {},
   "outputs": [],
   "source": []
  }
 ],
 "metadata": {
  "kernelspec": {
   "display_name": "Python 3 (ipykernel)",
   "language": "python",
   "name": "python3"
  },
  "language_info": {
   "codemirror_mode": {
    "name": "ipython",
    "version": 3
   },
   "file_extension": ".py",
   "mimetype": "text/x-python",
   "name": "python",
   "nbconvert_exporter": "python",
   "pygments_lexer": "ipython3",
   "version": "3.9.12"
  }
 },
 "nbformat": 4,
 "nbformat_minor": 5
}
