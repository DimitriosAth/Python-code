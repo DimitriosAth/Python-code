{
 "cells": [
  {
   "cell_type": "markdown",
   "id": "896b0d0a",
   "metadata": {},
   "source": [
    "## Step 3 - Import libraries and data set"
   ]
  },
  {
   "cell_type": "code",
   "execution_count": 1,
   "id": "c39bb551",
   "metadata": {},
   "outputs": [],
   "source": [
    "# Import Libraries\n",
    "import pandas as pd\n",
    "import numpy as np\n",
    "import os"
   ]
  },
  {
   "cell_type": "code",
   "execution_count": 2,
   "id": "1e9e2ca3",
   "metadata": {},
   "outputs": [],
   "source": [
    "path = r'/Users/Dimitris/Desktop/CF Data Analytics/Data Immersion/Achievement 4/22-08-2022 Instacart Basket Analysis/02 Data'"
   ]
  },
  {
   "cell_type": "code",
   "execution_count": 3,
   "id": "f1dcc812",
   "metadata": {},
   "outputs": [],
   "source": [
    "# Import the “customers 2.csv” file into Jupyter as df_cust\n",
    "\n",
    "df_cust = pd.read_csv(os.path.join(path, 'Original data', 'customers 2.csv'), index_col=False)"
   ]
  },
  {
   "cell_type": "markdown",
   "id": "2235407a",
   "metadata": {},
   "source": [
    "## Step 4 - Data wrangling"
   ]
  },
  {
   "cell_type": "code",
   "execution_count": null,
   "id": "9c7890b1",
   "metadata": {},
   "outputs": [],
   "source": [
    "df_cust"
   ]
  },
  {
   "cell_type": "code",
   "execution_count": null,
   "id": "5e22ae4a",
   "metadata": {},
   "outputs": [],
   "source": [
    "df_cust['user_id'].value_counts(dropna = False)"
   ]
  },
  {
   "cell_type": "code",
   "execution_count": null,
   "id": "80549f4b",
   "metadata": {},
   "outputs": [],
   "source": [
    "df_cust['First Name'].value_counts(dropna = False)"
   ]
  },
  {
   "cell_type": "code",
   "execution_count": 36,
   "id": "c6210eac",
   "metadata": {},
   "outputs": [],
   "source": [
    "# Create a subset with the NaN values. (Doing this after having changed the name of the Fist Name column to first_name below)\n",
    "\n",
    "df_nan = df_cust[df_cust['first_name'].isnull() == True]"
   ]
  },
  {
   "cell_type": "code",
   "execution_count": 37,
   "id": "68f5cd16",
   "metadata": {},
   "outputs": [
    {
     "data": {
      "text/html": [
       "<div>\n",
       "<style scoped>\n",
       "    .dataframe tbody tr th:only-of-type {\n",
       "        vertical-align: middle;\n",
       "    }\n",
       "\n",
       "    .dataframe tbody tr th {\n",
       "        vertical-align: top;\n",
       "    }\n",
       "\n",
       "    .dataframe thead th {\n",
       "        text-align: right;\n",
       "    }\n",
       "</style>\n",
       "<table border=\"1\" class=\"dataframe\">\n",
       "  <thead>\n",
       "    <tr style=\"text-align: right;\">\n",
       "      <th></th>\n",
       "      <th>user_id</th>\n",
       "      <th>first_name</th>\n",
       "      <th>last_name</th>\n",
       "      <th>gender</th>\n",
       "      <th>state</th>\n",
       "      <th>age</th>\n",
       "      <th>date_joined</th>\n",
       "      <th>dependants_number</th>\n",
       "      <th>family_status</th>\n",
       "      <th>income</th>\n",
       "    </tr>\n",
       "  </thead>\n",
       "  <tbody>\n",
       "  </tbody>\n",
       "</table>\n",
       "</div>"
      ],
      "text/plain": [
       "Empty DataFrame\n",
       "Columns: [user_id, first_name, last_name, gender, state, age, date_joined, dependants_number, family_status, income]\n",
       "Index: []"
      ]
     },
     "execution_count": 37,
     "metadata": {},
     "output_type": "execute_result"
    }
   ],
   "source": [
    "df_nan"
   ]
  },
  {
   "cell_type": "code",
   "execution_count": null,
   "id": "0173346c",
   "metadata": {},
   "outputs": [],
   "source": [
    "df_cust['Surnam'].value_counts(dropna = False)"
   ]
  },
  {
   "cell_type": "code",
   "execution_count": null,
   "id": "9fab0865",
   "metadata": {},
   "outputs": [],
   "source": [
    "df_cust['Gender'].value_counts(dropna = False)"
   ]
  },
  {
   "cell_type": "code",
   "execution_count": null,
   "id": "e01c9351",
   "metadata": {},
   "outputs": [],
   "source": [
    "df_cust['STATE'].value_counts(dropna = False)"
   ]
  },
  {
   "cell_type": "code",
   "execution_count": null,
   "id": "28f9af0e",
   "metadata": {},
   "outputs": [],
   "source": [
    "df_cust['Age'].value_counts(dropna = False)"
   ]
  },
  {
   "cell_type": "code",
   "execution_count": null,
   "id": "ffcd0bfc",
   "metadata": {},
   "outputs": [],
   "source": [
    "df_cust['date_joined'].value_counts(dropna = False)"
   ]
  },
  {
   "cell_type": "code",
   "execution_count": null,
   "id": "64d13863",
   "metadata": {},
   "outputs": [],
   "source": [
    "df_cust['n_dependants'].value_counts(dropna = False)"
   ]
  },
  {
   "cell_type": "code",
   "execution_count": null,
   "id": "25249bd8",
   "metadata": {},
   "outputs": [],
   "source": [
    "df_cust['fam_status'].value_counts(dropna = False)"
   ]
  },
  {
   "cell_type": "code",
   "execution_count": null,
   "id": "0024e8d5",
   "metadata": {},
   "outputs": [],
   "source": [
    "df_cust['income'].value_counts(dropna = False)"
   ]
  },
  {
   "cell_type": "code",
   "execution_count": 16,
   "id": "4633e363",
   "metadata": {},
   "outputs": [],
   "source": [
    "# Rename all columns except user_id, date_joined and income\n",
    "\n",
    "df_cust.rename(columns = {'First Name' : 'first_name'}, inplace = True)\n",
    "df_cust.rename(columns = {'Surnam' : 'last_name'}, inplace = True)\n",
    "df_cust.rename(columns = {'Gender' : 'gender'}, inplace = True)\n",
    "df_cust.rename(columns = {'STATE' : 'state'}, inplace = True)\n",
    "df_cust.rename(columns = {'Age' : 'age'}, inplace = True)\n",
    "df_cust.rename(columns = {'n_dependants' : 'dependants_number'}, inplace = True)\n",
    "df_cust.rename(columns = {'fam_status' : 'family_status'}, inplace = True)"
   ]
  },
  {
   "cell_type": "code",
   "execution_count": 26,
   "id": "37503db3",
   "metadata": {},
   "outputs": [],
   "source": [
    "# Change data type of user_id and date_joined columns\n",
    "\n",
    "df_cust['user_id'] = df_cust['user_id'].astype('str')\n",
    "df_cust['date_joined'] = df_cust['date_joined'].astype('str')"
   ]
  },
  {
   "cell_type": "code",
   "execution_count": null,
   "id": "b322b641",
   "metadata": {},
   "outputs": [],
   "source": [
    "# Check the data types\n",
    "\n",
    "df_cust.dtypes"
   ]
  },
  {
   "cell_type": "code",
   "execution_count": null,
   "id": "7d6df6c4",
   "metadata": {},
   "outputs": [],
   "source": [
    "# Use the describe() function to get descriptive statistics\n",
    "\n",
    "df_cust.describe()"
   ]
  },
  {
   "cell_type": "markdown",
   "id": "2e61edd3",
   "metadata": {},
   "source": [
    "## Step 5 - Data quality and consistency checks"
   ]
  },
  {
   "cell_type": "code",
   "execution_count": 32,
   "id": "c4402ec7",
   "metadata": {},
   "outputs": [
    {
     "name": "stdout",
     "output_type": "stream",
     "text": [
      "first_name\n"
     ]
    }
   ],
   "source": [
    "# Check for mixed-type columns\n",
    "\n",
    "for col in df_cust.columns.tolist():\n",
    "  weird = (df_cust[[col]].applymap(type) != df_cust[[col]].iloc[0].apply(type)).any(axis = 1)\n",
    "  if len (df_cust[weird]) > 0:\n",
    "    print (col)"
   ]
  },
  {
   "cell_type": "code",
   "execution_count": null,
   "id": "8cb1699f",
   "metadata": {},
   "outputs": [],
   "source": [
    "# Check the data type of column first_name\n",
    "\n",
    "df_cust.first_name"
   ]
  },
  {
   "cell_type": "code",
   "execution_count": 34,
   "id": "5a081b95",
   "metadata": {},
   "outputs": [],
   "source": [
    "# Change data type of first_name column\n",
    "\n",
    "df_cust['first_name'] = df_cust['first_name'].astype('str')"
   ]
  },
  {
   "cell_type": "code",
   "execution_count": null,
   "id": "af025cfb",
   "metadata": {},
   "outputs": [],
   "source": [
    "# Find missing values\n",
    "\n",
    "df_cust.isnull().sum()"
   ]
  },
  {
   "cell_type": "code",
   "execution_count": 38,
   "id": "2ac0b446",
   "metadata": {},
   "outputs": [],
   "source": [
    "# Find duplicates\n",
    "\n",
    "df_cust_dups = df_cust[df_cust.duplicated()]"
   ]
  },
  {
   "cell_type": "code",
   "execution_count": 39,
   "id": "48131c30",
   "metadata": {},
   "outputs": [
    {
     "data": {
      "text/html": [
       "<div>\n",
       "<style scoped>\n",
       "    .dataframe tbody tr th:only-of-type {\n",
       "        vertical-align: middle;\n",
       "    }\n",
       "\n",
       "    .dataframe tbody tr th {\n",
       "        vertical-align: top;\n",
       "    }\n",
       "\n",
       "    .dataframe thead th {\n",
       "        text-align: right;\n",
       "    }\n",
       "</style>\n",
       "<table border=\"1\" class=\"dataframe\">\n",
       "  <thead>\n",
       "    <tr style=\"text-align: right;\">\n",
       "      <th></th>\n",
       "      <th>user_id</th>\n",
       "      <th>first_name</th>\n",
       "      <th>last_name</th>\n",
       "      <th>gender</th>\n",
       "      <th>state</th>\n",
       "      <th>age</th>\n",
       "      <th>date_joined</th>\n",
       "      <th>dependants_number</th>\n",
       "      <th>family_status</th>\n",
       "      <th>income</th>\n",
       "    </tr>\n",
       "  </thead>\n",
       "  <tbody>\n",
       "  </tbody>\n",
       "</table>\n",
       "</div>"
      ],
      "text/plain": [
       "Empty DataFrame\n",
       "Columns: [user_id, first_name, last_name, gender, state, age, date_joined, dependants_number, family_status, income]\n",
       "Index: []"
      ]
     },
     "execution_count": 39,
     "metadata": {},
     "output_type": "execute_result"
    }
   ],
   "source": [
    "df_cust_dups"
   ]
  },
  {
   "cell_type": "code",
   "execution_count": 50,
   "id": "37e023e3",
   "metadata": {},
   "outputs": [],
   "source": [
    "# Exporting df_cust as 'customer_2_checked.csv'\n",
    "\n",
    "df_cust.to_csv(os.path.join(path, 'Prepared Data', 'customer_2_checked.csv'))"
   ]
  },
  {
   "cell_type": "markdown",
   "id": "a14c599b",
   "metadata": {},
   "source": [
    "## Combine the customer data with the rest of the prepared Instacart data"
   ]
  },
  {
   "cell_type": "code",
   "execution_count": 42,
   "id": "a47c371b",
   "metadata": {},
   "outputs": [],
   "source": [
    "# Import the orders_products_merged dataframe from the pickle file you saved\n",
    "\n",
    "df_ords_prods_mrg = pd.read_pickle(os.path.join(path, 'Prepared data', 'orders_products_merged_flags.pkl'))"
   ]
  },
  {
   "cell_type": "code",
   "execution_count": null,
   "id": "488871ad",
   "metadata": {},
   "outputs": [],
   "source": [
    "df_ords_prods_mrg.head()"
   ]
  },
  {
   "cell_type": "code",
   "execution_count": null,
   "id": "2c9f88a8",
   "metadata": {},
   "outputs": [],
   "source": [
    "df_cust.head()"
   ]
  },
  {
   "cell_type": "code",
   "execution_count": null,
   "id": "f3dd4cd0",
   "metadata": {},
   "outputs": [],
   "source": [
    "# Check the data types of df_ords_prods_mrg\n",
    "\n",
    "df_ords_prods_mrg.dtypes"
   ]
  },
  {
   "cell_type": "code",
   "execution_count": 47,
   "id": "6493f27f",
   "metadata": {},
   "outputs": [],
   "source": [
    "# Change data type of user_id column in df_ords_prods_mrg dataframe\n",
    "\n",
    "df_ords_prods_mrg['user_id'] = df_ords_prods_mrg['user_id'].astype('str')"
   ]
  },
  {
   "cell_type": "code",
   "execution_count": null,
   "id": "9662fb89",
   "metadata": {},
   "outputs": [],
   "source": [
    "df_ords_prods_mrg['user_id'].dtype"
   ]
  },
  {
   "cell_type": "code",
   "execution_count": 51,
   "id": "d84df129",
   "metadata": {},
   "outputs": [],
   "source": [
    "# Merge df_ords_prods_mrg and df_cust dataframes using df.merge() on user_id column\n",
    "\n",
    "df_ords_prods_cust = df_ords_prods_mrg.merge(df_cust, on = 'user_id')"
   ]
  },
  {
   "cell_type": "markdown",
   "id": "16a28552",
   "metadata": {},
   "source": [
    "## Step 8 - Exporting data"
   ]
  },
  {
   "cell_type": "code",
   "execution_count": 52,
   "id": "97cddb60",
   "metadata": {},
   "outputs": [],
   "source": [
    "# Exporting df_ords_prods_cust as 'orders_products_customer_merged.pkl'\n",
    "\n",
    "df_ords_prods_cust.to_pickle(os.path.join(path, 'Prepared Data', 'orders_products_customer_merged.pkl'))"
   ]
  },
  {
   "cell_type": "code",
   "execution_count": null,
   "id": "13c29a93",
   "metadata": {},
   "outputs": [],
   "source": []
  },
  {
   "cell_type": "code",
   "execution_count": null,
   "id": "a9c897de",
   "metadata": {},
   "outputs": [],
   "source": []
  },
  {
   "cell_type": "code",
   "execution_count": null,
   "id": "a8cc93f7",
   "metadata": {},
   "outputs": [],
   "source": []
  }
 ],
 "metadata": {
  "kernelspec": {
   "display_name": "Python 3 (ipykernel)",
   "language": "python",
   "name": "python3"
  },
  "language_info": {
   "codemirror_mode": {
    "name": "ipython",
    "version": 3
   },
   "file_extension": ".py",
   "mimetype": "text/x-python",
   "name": "python",
   "nbconvert_exporter": "python",
   "pygments_lexer": "ipython3",
   "version": "3.9.12"
  }
 },
 "nbformat": 4,
 "nbformat_minor": 5
}
