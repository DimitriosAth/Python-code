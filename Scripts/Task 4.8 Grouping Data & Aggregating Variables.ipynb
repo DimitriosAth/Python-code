{
 "cells": [
  {
   "cell_type": "code",
   "execution_count": 1,
   "id": "c986c168",
   "metadata": {},
   "outputs": [],
   "source": [
    "# Import libraries\n",
    "\n",
    "import pandas as pd\n",
    "import numpy as np\n",
    "import os"
   ]
  },
  {
   "cell_type": "code",
   "execution_count": 2,
   "id": "8cca08c8",
   "metadata": {},
   "outputs": [],
   "source": [
    "path = r'/Users/Dimitris/Desktop/CF Data Analytics/Data Immersion/Achievement 4/22-08-2022 Instacart Basket Analysis/02 Data'"
   ]
  },
  {
   "cell_type": "markdown",
   "id": "b6001506",
   "metadata": {},
   "source": [
    "## Step 1"
   ]
  },
  {
   "cell_type": "code",
   "execution_count": 3,
   "id": "a1cebb90",
   "metadata": {},
   "outputs": [],
   "source": [
    "# Import the orders_products_merged dataframe from the pickle file you saved\n",
    "\n",
    "df_ords_prods_mrg = pd.read_pickle(os.path.join(path, 'Prepared data', 'orders_products_merged.pkl'))"
   ]
  },
  {
   "cell_type": "markdown",
   "id": "f99aa432",
   "metadata": {},
   "source": [
    "## Step 2"
   ]
  },
  {
   "cell_type": "code",
   "execution_count": null,
   "id": "8d8540b5",
   "metadata": {},
   "outputs": [],
   "source": [
    "# Find the aggregated mean of the “order_number” column grouped by “department_id” for the full data set\n",
    "\n",
    "df_ords_prods_mrg.groupby('department_id')['order_number'].mean()"
   ]
  },
  {
   "cell_type": "code",
   "execution_count": 5,
   "id": "a961f9eb",
   "metadata": {},
   "outputs": [],
   "source": [
    "# Find the aggregated mean of the “order_number” column grouped by “department_id” for the subset\n",
    "# Create a subset of the data frame\n",
    "\n",
    "df = df_ords_prods_mrg[:1000000]"
   ]
  },
  {
   "cell_type": "code",
   "execution_count": null,
   "id": "ecb28430",
   "metadata": {},
   "outputs": [],
   "source": [
    "df.groupby('department_id').agg({'order_number': ['mean']})"
   ]
  },
  {
   "cell_type": "markdown",
   "id": "63239679",
   "metadata": {},
   "source": [
    "## Step 3"
   ]
  },
  {
   "cell_type": "markdown",
   "id": "243e0cfe",
   "metadata": {},
   "source": [
    "### Finding the department order mean of the subset and of the full data set produces different results due to the different size of the data, but the differences are not too great. This means that, even with the subset, we can get a good idea of what the department order mean numbers are. For a thorough analysis though, we need to use the full data set."
   ]
  },
  {
   "cell_type": "markdown",
   "id": "8dd97e74",
   "metadata": {},
   "source": [
    "## Step 4"
   ]
  },
  {
   "cell_type": "code",
   "execution_count": 7,
   "id": "4483e399",
   "metadata": {},
   "outputs": [],
   "source": [
    "# Create a loyalty flag for existing customers using the transform() and loc() functions\n",
    "\n",
    "df_ords_prods_mrg['max_order'] = df_ords_prods_mrg.groupby(['user_id'])['order_number'].transform(np.max)"
   ]
  },
  {
   "cell_type": "code",
   "execution_count": null,
   "id": "3396b692",
   "metadata": {},
   "outputs": [],
   "source": [
    "df_ords_prods_mrg.head(20)"
   ]
  },
  {
   "cell_type": "code",
   "execution_count": 9,
   "id": "8648fbfb",
   "metadata": {},
   "outputs": [],
   "source": [
    "# Create a flag that assigns a “loyalty” label to a user ID based on its corresponding max order value\n",
    "\n",
    "df_ords_prods_mrg.loc[df_ords_prods_mrg['max_order'] > 40, 'loyalty_flag'] = 'Loyal customer'"
   ]
  },
  {
   "cell_type": "code",
   "execution_count": 10,
   "id": "95573d9a",
   "metadata": {},
   "outputs": [],
   "source": [
    "df_ords_prods_mrg.loc[(df_ords_prods_mrg['max_order'] <= 40) & (df_ords_prods_mrg['max_order'] > 10), 'loyalty_flag'] = 'Regular customer'"
   ]
  },
  {
   "cell_type": "code",
   "execution_count": 11,
   "id": "94c173a6",
   "metadata": {},
   "outputs": [],
   "source": [
    "df_ords_prods_mrg.loc[df_ords_prods_mrg['max_order'] <= 10, 'loyalty_flag'] = 'New customer'"
   ]
  },
  {
   "cell_type": "code",
   "execution_count": null,
   "id": "c9f32aea",
   "metadata": {},
   "outputs": [],
   "source": [
    "df_ords_prods_mrg.head(20)"
   ]
  },
  {
   "cell_type": "code",
   "execution_count": 13,
   "id": "3fbda31c",
   "metadata": {},
   "outputs": [
    {
     "data": {
      "text/plain": [
       "Regular customer    15891507\n",
       "Loyal customer      10294027\n",
       "New customer         6249525\n",
       "Name: loyalty_flag, dtype: int64"
      ]
     },
     "execution_count": 13,
     "metadata": {},
     "output_type": "execute_result"
    }
   ],
   "source": [
    "df_ords_prods_mrg['loyalty_flag'].value_counts(dropna = False)"
   ]
  },
  {
   "cell_type": "code",
   "execution_count": 14,
   "id": "cbecf2cb",
   "metadata": {},
   "outputs": [],
   "source": [
    "# Save updated data set\n",
    "\n",
    "df_ords_prods_mrg = df_ords_prods_mrg"
   ]
  },
  {
   "cell_type": "code",
   "execution_count": null,
   "id": "d9f95521",
   "metadata": {},
   "outputs": [],
   "source": [
    "df_ords_prods_mrg.head(20)"
   ]
  },
  {
   "cell_type": "markdown",
   "id": "72f91f73",
   "metadata": {},
   "source": [
    "## Step 5"
   ]
  },
  {
   "cell_type": "code",
   "execution_count": null,
   "id": "a6ddfb15",
   "metadata": {},
   "outputs": [],
   "source": [
    "# Use the loyalty flag you created and check the basic statistics of the product prices for each loyalty category\n",
    "\n",
    "df_ords_prods_mrg.groupby('loyalty_flag').agg({'prices': ['mean', 'min', 'max']})"
   ]
  },
  {
   "cell_type": "markdown",
   "id": "cce99ca1",
   "metadata": {},
   "source": [
    "## Step 6"
   ]
  },
  {
   "cell_type": "code",
   "execution_count": 17,
   "id": "0c3cf383",
   "metadata": {},
   "outputs": [],
   "source": [
    "# Create a loyalty flag for existing customers using the transform() and loc() functions\n",
    "\n",
    "df_ords_prods_mrg['orders_mean_price'] = df_ords_prods_mrg.groupby(['user_id'])['prices'].transform(np.mean)"
   ]
  },
  {
   "cell_type": "code",
   "execution_count": 18,
   "id": "8af1c610",
   "metadata": {},
   "outputs": [],
   "source": [
    "# Create a flag that assigns a “spender status” label to a user ID based on its corresponding mean order value\n",
    "\n",
    "df_ords_prods_mrg.loc[df_ords_prods_mrg['orders_mean_price'] > 10, 'spending_flag'] = 'High spender'\n",
    "df_ords_prods_mrg.loc[df_ords_prods_mrg['orders_mean_price'] < 10, 'spending_flag'] = 'Low spender'"
   ]
  },
  {
   "cell_type": "code",
   "execution_count": null,
   "id": "773ea8a1",
   "metadata": {},
   "outputs": [],
   "source": [
    "df_ords_prods_mrg.head(20)"
   ]
  },
  {
   "cell_type": "code",
   "execution_count": 21,
   "id": "b0bf25a4",
   "metadata": {},
   "outputs": [],
   "source": [
    "# Save updated data set\n",
    "\n",
    "df_ords_prods_mrg = df_ords_prods_mrg"
   ]
  },
  {
   "cell_type": "markdown",
   "id": "2c0f62ab",
   "metadata": {},
   "source": [
    "## Step 7"
   ]
  },
  {
   "cell_type": "code",
   "execution_count": 22,
   "id": "331fd843",
   "metadata": {},
   "outputs": [],
   "source": [
    "# Create an order frequency flag that marks the regularity of a user’s ordering behavior\n",
    "# according to the median in the “days_since_prior_order” column.\n",
    "\n",
    "df_ords_prods_mrg['customer_order_frequency'] = df_ords_prods_mrg.groupby(['user_id'])['days_since_prior_order'].transform(np.mean)"
   ]
  },
  {
   "cell_type": "code",
   "execution_count": null,
   "id": "4c75f271",
   "metadata": {},
   "outputs": [],
   "source": [
    "df_ords_prods_mrg.head()"
   ]
  },
  {
   "cell_type": "code",
   "execution_count": 24,
   "id": "b8969c44",
   "metadata": {},
   "outputs": [],
   "source": [
    "df_ords_prods_mrg.loc[df_ords_prods_mrg['customer_order_frequency'] > 20, 'order_frequency_flag'] = 'Non-frequent customer'\n",
    "df_ords_prods_mrg.loc[(df_ords_prods_mrg['customer_order_frequency'] <= 20) & (df_ords_prods_mrg['customer_order_frequency'] > 10), 'order_frequency_flag'] = 'Regular customer'\n",
    "df_ords_prods_mrg.loc[df_ords_prods_mrg['customer_order_frequency'] <= 10, 'order_frequency_flag'] = 'Frequent customer'"
   ]
  },
  {
   "cell_type": "code",
   "execution_count": null,
   "id": "34caf1ae",
   "metadata": {},
   "outputs": [],
   "source": [
    "df_ords_prods_mrg.head()"
   ]
  },
  {
   "cell_type": "code",
   "execution_count": 28,
   "id": "ca7c5e0d",
   "metadata": {},
   "outputs": [],
   "source": [
    "# Save updated data set\n",
    "\n",
    "df_ords_prods_mrg = df_ords_prods_mrg"
   ]
  },
  {
   "cell_type": "code",
   "execution_count": null,
   "id": "2c44a2f3",
   "metadata": {},
   "outputs": [],
   "source": [
    "df_ords_prods_mrg.head(30)"
   ]
  },
  {
   "cell_type": "code",
   "execution_count": null,
   "id": "27c2ea21",
   "metadata": {},
   "outputs": [],
   "source": [
    "# Export the newly created dataframe as orders_products_merged to pkl format\n",
    "\n",
    "df_ords_prods_mrg.to_pickle(os.path.join(path,'Prepared Data', 'orders_products_merged_flags.pkl'))"
   ]
  },
  {
   "cell_type": "code",
   "execution_count": null,
   "id": "5c0e22cc",
   "metadata": {},
   "outputs": [],
   "source": []
  },
  {
   "cell_type": "code",
   "execution_count": null,
   "id": "e4b84f58",
   "metadata": {},
   "outputs": [],
   "source": []
  },
  {
   "cell_type": "code",
   "execution_count": null,
   "id": "b95b23c9",
   "metadata": {},
   "outputs": [],
   "source": []
  },
  {
   "cell_type": "code",
   "execution_count": null,
   "id": "b5d1d852",
   "metadata": {},
   "outputs": [],
   "source": []
  },
  {
   "cell_type": "code",
   "execution_count": null,
   "id": "47098e30",
   "metadata": {},
   "outputs": [],
   "source": []
  }
 ],
 "metadata": {
  "kernelspec": {
   "display_name": "Python 3 (ipykernel)",
   "language": "python",
   "name": "python3"
  },
  "language_info": {
   "codemirror_mode": {
    "name": "ipython",
    "version": 3
   },
   "file_extension": ".py",
   "mimetype": "text/x-python",
   "name": "python",
   "nbconvert_exporter": "python",
   "pygments_lexer": "ipython3",
   "version": "3.9.12"
  }
 },
 "nbformat": 4,
 "nbformat_minor": 5
}
