{
 "cells": [
  {
   "cell_type": "markdown",
   "id": "dd75a57e",
   "metadata": {},
   "source": [
    "# 01. Importing libraries and data sets"
   ]
  },
  {
   "cell_type": "code",
   "execution_count": null,
   "id": "89f864a2",
   "metadata": {},
   "outputs": [],
   "source": [
    "# Import Libraries\n",
    "import pandas as pd\n",
    "import numpy as np\n",
    "import os"
   ]
  },
  {
   "cell_type": "code",
   "execution_count": null,
   "id": "41a74023",
   "metadata": {},
   "outputs": [],
   "source": [
    "# Import the “orders.csv” data set into your notebook\n",
    "\n",
    "path = r'/Users/Dimitris/Desktop/CF Data Analytics/Data Immersion/Achievement 4/22-08-2022 Instacart Basket Analysis/02 Data'"
   ]
  },
  {
   "cell_type": "code",
   "execution_count": null,
   "id": "02312422",
   "metadata": {},
   "outputs": [],
   "source": [
    "df_ords = pd.read_csv(os.path.join(path, 'Original data', 'orders.csv'), index_col=False)"
   ]
  },
  {
   "cell_type": "code",
   "execution_count": null,
   "id": "d12b2333",
   "metadata": {},
   "outputs": [],
   "source": [
    "# Import the “products.csv” file into Jupyter as df_prods\n",
    "\n",
    "df_prods = pd.read_csv(os.path.join(path, 'Original data', 'products.csv'), index_col=False)"
   ]
  },
  {
   "cell_type": "markdown",
   "id": "1a4090f3",
   "metadata": {},
   "source": [
    "# 02. Data wrangling"
   ]
  },
  {
   "cell_type": "code",
   "execution_count": null,
   "id": "880892f0",
   "metadata": {},
   "outputs": [],
   "source": [
    "# df.drop() function\n",
    "\n",
    "df_ords.drop(columns = ['eval_set'])"
   ]
  },
  {
   "cell_type": "code",
   "execution_count": null,
   "id": "b2c68af3",
   "metadata": {},
   "outputs": [],
   "source": [
    "# Dropping the eval_set column from df_ords permanently\n",
    "\n",
    "df_ords = df_ords.drop(columns = ['eval_set'])"
   ]
  },
  {
   "cell_type": "code",
   "execution_count": null,
   "id": "9362f007",
   "metadata": {},
   "outputs": [],
   "source": [
    "df_ords['days_since_prior_order'].value_counts(dropna = False)"
   ]
  },
  {
   "cell_type": "code",
   "execution_count": null,
   "id": "b9e85104",
   "metadata": {},
   "outputs": [],
   "source": [
    "# Renaming columns\n",
    "\n",
    "df_ords.rename(columns = {'order_dow' : 'orders_day_of_week'}, inplace = True)"
   ]
  },
  {
   "cell_type": "code",
   "execution_count": null,
   "id": "fb1858a2",
   "metadata": {},
   "outputs": [],
   "source": [
    "# astype() function to change a variables data type\n",
    "\n",
    "df_ords['order_id'].astype('str')"
   ]
  },
  {
   "cell_type": "code",
   "execution_count": null,
   "id": "c17953e6",
   "metadata": {},
   "outputs": [],
   "source": [
    "# to overwrite the existing \"order_id\" column with a new string version of the same column...\n",
    "\n",
    "df_ords['order_id'] = df_ords['order_id'].astype('str')"
   ]
  },
  {
   "cell_type": "code",
   "execution_count": null,
   "id": "417e1783",
   "metadata": {},
   "outputs": [],
   "source": [
    "# Check the data type of order_id column (It's object i.e, string)\n",
    "\n",
    "df_ords['order_id'].dtype"
   ]
  },
  {
   "cell_type": "code",
   "execution_count": null,
   "id": "051cd8cd",
   "metadata": {},
   "outputs": [],
   "source": [
    "# Import the “departments.csv” file into Jupyter as df_dep\n",
    "\n",
    "df_dep = pd.read_csv(os.path.join(path, 'Original data', 'departments.csv'), index_col=False)"
   ]
  },
  {
   "cell_type": "code",
   "execution_count": null,
   "id": "16b14cff",
   "metadata": {},
   "outputs": [],
   "source": [
    "df_dep.head()"
   ]
  },
  {
   "cell_type": "code",
   "execution_count": null,
   "id": "597f714a",
   "metadata": {},
   "outputs": [],
   "source": [
    "# Transposing df_dep dataframe\n",
    "\n",
    "df_dep.T"
   ]
  },
  {
   "cell_type": "code",
   "execution_count": null,
   "id": "3454707b",
   "metadata": {},
   "outputs": [],
   "source": [
    "# Permanently transposing df_dep dataframe\n",
    "\n",
    "df_dep_t = df_dep.T"
   ]
  },
  {
   "cell_type": "code",
   "execution_count": null,
   "id": "80e5d0e7",
   "metadata": {},
   "outputs": [],
   "source": [
    "df_dep_t"
   ]
  },
  {
   "cell_type": "code",
   "execution_count": null,
   "id": "756831e1",
   "metadata": {},
   "outputs": [],
   "source": [
    "# Adding an index to df_dep_t\n",
    "\n",
    "df_dep_t.reset_index()"
   ]
  },
  {
   "cell_type": "code",
   "execution_count": null,
   "id": "57e68315",
   "metadata": {},
   "outputs": [],
   "source": [
    "# Creating a new header\n",
    "# Step 1\n",
    "\n",
    "new_header = df_dep_t.iloc[0]"
   ]
  },
  {
   "cell_type": "code",
   "execution_count": null,
   "id": "370fc932",
   "metadata": {},
   "outputs": [],
   "source": [
    "# Step 2, creating a new dataframe without the first row (whose index number = 0)\n",
    "\n",
    "df_dep_t_new = df_dep_t[1:]"
   ]
  },
  {
   "cell_type": "code",
   "execution_count": null,
   "id": "0f993519",
   "metadata": {},
   "outputs": [],
   "source": [
    "df_dep_t_new"
   ]
  },
  {
   "cell_type": "code",
   "execution_count": null,
   "id": "b56a13cb",
   "metadata": {},
   "outputs": [],
   "source": [
    "# Step 3, Setting the new_header variable as the new header for the df_dep_t_new dataframe, using the df.columns function\n",
    "\n",
    "df_dep_t_new.columns = new_header"
   ]
  },
  {
   "cell_type": "code",
   "execution_count": null,
   "id": "989c97a7",
   "metadata": {},
   "outputs": [],
   "source": [
    "df_dep_t_new"
   ]
  },
  {
   "cell_type": "markdown",
   "id": "0eaffeb8",
   "metadata": {},
   "source": [
    "# 03. Data dictionaries"
   ]
  },
  {
   "cell_type": "code",
   "execution_count": null,
   "id": "e110da00",
   "metadata": {},
   "outputs": [],
   "source": [
    "# Turning df_dep_t_new into a data dictionary\n",
    "\n",
    "data_dict = df_dep_t_new.to_dict('index')"
   ]
  },
  {
   "cell_type": "code",
   "execution_count": null,
   "id": "87baa1b3",
   "metadata": {},
   "outputs": [],
   "source": [
    "data_dict"
   ]
  },
  {
   "cell_type": "code",
   "execution_count": null,
   "id": "3190d4fd",
   "metadata": {},
   "outputs": [],
   "source": [
    "df_prods.head()"
   ]
  },
  {
   "cell_type": "code",
   "execution_count": null,
   "id": "85ce38c2",
   "metadata": {},
   "outputs": [],
   "source": [
    "# Using the data dictionary to find what is department_id = 19\n",
    "\n",
    "print(data_dict.get('19'))"
   ]
  },
  {
   "cell_type": "code",
   "execution_count": null,
   "id": "725909b3",
   "metadata": {},
   "outputs": [],
   "source": [
    "# Subsetting (creating a smaller data set from a whole data set based on a particular filter)\n",
    "\n",
    "df_snacks = df_prods[df_prods['department_id']==19]"
   ]
  },
  {
   "cell_type": "markdown",
   "id": "9358cce8",
   "metadata": {},
   "source": [
    "# Task 4.4"
   ]
  },
  {
   "cell_type": "code",
   "execution_count": null,
   "id": "8424d7ed",
   "metadata": {},
   "outputs": [],
   "source": [
    "# Step 2, Using astype() function to change 'orders_day_of_week' data type to string\n",
    "\n",
    "df_ords['orders_day_of_week'].astype('str')"
   ]
  },
  {
   "cell_type": "code",
   "execution_count": null,
   "id": "0a3f4892",
   "metadata": {},
   "outputs": [],
   "source": [
    "df_ords.head()"
   ]
  },
  {
   "cell_type": "code",
   "execution_count": null,
   "id": "e98a3285",
   "metadata": {},
   "outputs": [],
   "source": [
    "# Step 3, Renaming column 'days_since_prior_order'\n",
    "\n",
    "df_ords.rename(columns = {'days_since_prior_order' : 'days_since_last_order'}, inplace = True)"
   ]
  },
  {
   "cell_type": "code",
   "execution_count": null,
   "id": "e53dd503",
   "metadata": {},
   "outputs": [],
   "source": [
    "df_ords.head()"
   ]
  },
  {
   "cell_type": "code",
   "execution_count": null,
   "id": "eb5e77ab",
   "metadata": {},
   "outputs": [],
   "source": [
    "# Step 4, Finding what the busiest hour is for placing orders.\n",
    "# Answer: The busiest hour for placing orders is 10:00am.\n",
    "\n",
    "df_ords['order_hour_of_day'].value_counts()"
   ]
  },
  {
   "cell_type": "code",
   "execution_count": null,
   "id": "ca4ebaa4",
   "metadata": {},
   "outputs": [],
   "source": [
    "df_prods"
   ]
  },
  {
   "cell_type": "code",
   "execution_count": null,
   "id": "a527e9e1",
   "metadata": {},
   "outputs": [],
   "source": [
    "# Step 5, Determine the meaning behind a value of 4 in the \"department_id\" column within the df_prods dataframe using a data dictionary.\n",
    "# Answer: department_id = 4 is 'produce'.\n",
    "\n",
    "# Turning df_prods into a data dictionary\n",
    "data_dict_prods = df_prods.to_dict('index')"
   ]
  },
  {
   "cell_type": "code",
   "execution_count": null,
   "id": "11772e9b",
   "metadata": {},
   "outputs": [],
   "source": [
    "data_dict_prods"
   ]
  },
  {
   "cell_type": "code",
   "execution_count": null,
   "id": "f515d4df",
   "metadata": {},
   "outputs": [],
   "source": [
    "data_dict"
   ]
  },
  {
   "cell_type": "code",
   "execution_count": null,
   "id": "0ac3b1fe",
   "metadata": {},
   "outputs": [],
   "source": [
    "# Step 6, Create a subset containing only breakfast item sales information.\n",
    "\n",
    "df_breakfast_sales =  df_prods[df_prods['department_id']==14]"
   ]
  },
  {
   "cell_type": "code",
   "execution_count": null,
   "id": "12877011",
   "metadata": {},
   "outputs": [],
   "source": [
    "df_breakfast_sales.head()"
   ]
  },
  {
   "cell_type": "code",
   "execution_count": null,
   "id": "5268a175",
   "metadata": {},
   "outputs": [],
   "source": [
    "# Step 7, Find all observations from the entire dataframe that include items from the following departments: alcohol, deli, beverages, and meat/seafood.\n",
    "\n",
    "df_dinner_party = df_prods.loc[df_prods['department_id'].isin([5, 7, 20, 12])]"
   ]
  },
  {
   "cell_type": "code",
   "execution_count": null,
   "id": "106e6497",
   "metadata": {},
   "outputs": [],
   "source": [
    "df_dinner_party.head()"
   ]
  },
  {
   "cell_type": "code",
   "execution_count": null,
   "id": "7db30b4b",
   "metadata": {},
   "outputs": [],
   "source": [
    "# Step 8, How many rows does the last dataframe you created have?\n",
    "\n",
    "df_dinner_party['product_name'].value_counts(dropna = False)"
   ]
  },
  {
   "cell_type": "code",
   "execution_count": null,
   "id": "ec7b035d",
   "metadata": {},
   "outputs": [],
   "source": [
    "# Step 8, better way to find the number of rows in a dataframe\n",
    "\n",
    "len(df_dinner_party.index)"
   ]
  },
  {
   "cell_type": "code",
   "execution_count": null,
   "id": "9f549161",
   "metadata": {},
   "outputs": [],
   "source": [
    "# Step 9, Extract all the information you can about 'user_id = 1'.\n",
    "\n",
    "df_user_id_1 =  df_ords[df_ords['user_id']==1]"
   ]
  },
  {
   "cell_type": "code",
   "execution_count": null,
   "id": "0eb3b6c9",
   "metadata": {},
   "outputs": [],
   "source": [
    "df_user_id_1"
   ]
  },
  {
   "cell_type": "code",
   "execution_count": null,
   "id": "bde0dc9f",
   "metadata": {},
   "outputs": [],
   "source": [
    "# Step 10, What basic stats can you provide based on the information you have?\n",
    "# Answer: User with ID 1 has ordered a total of 11 times. He orders every 3 weeks on average, between Sunday and Wednesday, mostly at or close to 08:00am.\n",
    "\n",
    "df_user_id_1.describe()"
   ]
  },
  {
   "cell_type": "code",
   "execution_count": null,
   "id": "01d20050",
   "metadata": {},
   "outputs": [],
   "source": [
    "# Exporting df_ords as 'orders_wrangled.csv'\n",
    "\n",
    "df_ords.to_csv(os.path.join(path, 'Prepared Data', 'orders_wrangled.csv'))"
   ]
  },
  {
   "cell_type": "code",
   "execution_count": null,
   "id": "c17e1475",
   "metadata": {},
   "outputs": [],
   "source": [
    "# Exporting df_dep_t_new as 'departments_wrangled.csv'\n",
    "\n",
    "df_dep_t_new.to_csv(os.path.join(path, 'Prepared Data', 'departments_wrangled.csv'))"
   ]
  },
  {
   "cell_type": "code",
   "execution_count": null,
   "id": "cc2e80a6",
   "metadata": {},
   "outputs": [],
   "source": []
  },
  {
   "cell_type": "code",
   "execution_count": null,
   "id": "a6212998",
   "metadata": {},
   "outputs": [],
   "source": []
  },
  {
   "cell_type": "code",
   "execution_count": null,
   "id": "f82ca736",
   "metadata": {},
   "outputs": [],
   "source": []
  },
  {
   "cell_type": "code",
   "execution_count": null,
   "id": "c02fc6ba",
   "metadata": {},
   "outputs": [],
   "source": []
  },
  {
   "cell_type": "code",
   "execution_count": null,
   "id": "d899b471",
   "metadata": {},
   "outputs": [],
   "source": []
  },
  {
   "cell_type": "code",
   "execution_count": null,
   "id": "c3a79397",
   "metadata": {},
   "outputs": [],
   "source": []
  },
  {
   "cell_type": "code",
   "execution_count": null,
   "id": "466576f0",
   "metadata": {},
   "outputs": [],
   "source": []
  },
  {
   "cell_type": "code",
   "execution_count": null,
   "id": "b43cc146",
   "metadata": {},
   "outputs": [],
   "source": []
  },
  {
   "cell_type": "code",
   "execution_count": null,
   "id": "d9eadaac",
   "metadata": {},
   "outputs": [],
   "source": []
  },
  {
   "cell_type": "code",
   "execution_count": null,
   "id": "9c5037bc",
   "metadata": {},
   "outputs": [],
   "source": []
  },
  {
   "cell_type": "code",
   "execution_count": null,
   "id": "0b10e4f4",
   "metadata": {},
   "outputs": [],
   "source": []
  },
  {
   "cell_type": "code",
   "execution_count": null,
   "id": "55c863d9",
   "metadata": {},
   "outputs": [],
   "source": []
  },
  {
   "cell_type": "code",
   "execution_count": null,
   "id": "ab374715",
   "metadata": {},
   "outputs": [],
   "source": []
  }
 ],
 "metadata": {
  "kernelspec": {
   "display_name": "Python 3 (ipykernel)",
   "language": "python",
   "name": "python3"
  },
  "language_info": {
   "codemirror_mode": {
    "name": "ipython",
    "version": 3
   },
   "file_extension": ".py",
   "mimetype": "text/x-python",
   "name": "python",
   "nbconvert_exporter": "python",
   "pygments_lexer": "ipython3",
   "version": "3.9.12"
  }
 },
 "nbformat": 4,
 "nbformat_minor": 5
}
