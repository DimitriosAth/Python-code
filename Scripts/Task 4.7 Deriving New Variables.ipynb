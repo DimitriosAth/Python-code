{
 "cells": [
  {
   "cell_type": "code",
   "execution_count": 1,
   "id": "e7aab746",
   "metadata": {},
   "outputs": [],
   "source": [
    "# Import libraries\n",
    "\n",
    "import pandas as pd\n",
    "import numpy as np\n",
    "import os"
   ]
  },
  {
   "cell_type": "code",
   "execution_count": 2,
   "id": "1b71e429",
   "metadata": {},
   "outputs": [],
   "source": [
    "path = r'/Users/Dimitris/Desktop/CF Data Analytics/Data Immersion/Achievement 4/22-08-2022 Instacart Basket Analysis/02 Data'"
   ]
  },
  {
   "cell_type": "code",
   "execution_count": 3,
   "id": "1910af7e",
   "metadata": {},
   "outputs": [],
   "source": [
    "# Import the orders_products_merged dataframe from the pickle file you saved\n",
    "\n",
    "df_ords_prods_mrg = pd.read_pickle(os.path.join(path, 'Prepared data', 'orders_products_merged.pkl'))"
   ]
  },
  {
   "cell_type": "code",
   "execution_count": null,
   "id": "2ca50e93",
   "metadata": {},
   "outputs": [],
   "source": [
    "# Check the shape of data\n",
    "\n",
    "df_ords_prods_mrg.head()"
   ]
  },
  {
   "cell_type": "code",
   "execution_count": 5,
   "id": "ab7112c7",
   "metadata": {},
   "outputs": [],
   "source": [
    "# Create a subset of the data frame\n",
    "\n",
    "df_ords_prods_merge = df_ords_prods_mrg[:1000000]"
   ]
  },
  {
   "cell_type": "code",
   "execution_count": null,
   "id": "b35f6000",
   "metadata": {},
   "outputs": [],
   "source": [
    "df_ords_prods_merge.shape"
   ]
  },
  {
   "cell_type": "code",
   "execution_count": 7,
   "id": "2a71e281",
   "metadata": {},
   "outputs": [],
   "source": [
    "# Create a user-defined function\n",
    "\n",
    "def price_label(row):\n",
    "\n",
    "  if row['prices'] <= 5:\n",
    "    return 'Low-range product'\n",
    "  elif (row['prices'] > 5) and (row['prices'] <= 15):\n",
    "    return 'Mid-range product'\n",
    "  elif row['prices'] > 15:\n",
    "    return 'High range'\n",
    "  else: return 'Not enough data'"
   ]
  },
  {
   "cell_type": "code",
   "execution_count": null,
   "id": "df8b4b9d",
   "metadata": {},
   "outputs": [],
   "source": [
    "# Use the new funtion in a new column\n",
    "\n",
    "df_ords_prods_merge['price_range'] = df_ords_prods_merge.apply(price_label, axis=1)"
   ]
  },
  {
   "cell_type": "code",
   "execution_count": null,
   "id": "3935588f",
   "metadata": {},
   "outputs": [],
   "source": [
    "df_ords_prods_merge['price_range'].value_counts(dropna = False)"
   ]
  },
  {
   "cell_type": "code",
   "execution_count": null,
   "id": "7bd678ba",
   "metadata": {},
   "outputs": [],
   "source": [
    "df_ords_prods_merge['prices'].max()"
   ]
  },
  {
   "cell_type": "code",
   "execution_count": null,
   "id": "fe956561",
   "metadata": {},
   "outputs": [],
   "source": [
    "df_ords_prods_merge"
   ]
  },
  {
   "cell_type": "code",
   "execution_count": null,
   "id": "25227624",
   "metadata": {},
   "outputs": [],
   "source": [
    "# Using the loc function to achieve the same result as above\n",
    "\n",
    "df_ords_prods_merge.loc[df_ords_prods_merge['prices'] > 15, 'price_range_loc'] = 'High-range product'"
   ]
  },
  {
   "cell_type": "code",
   "execution_count": 13,
   "id": "16423098",
   "metadata": {},
   "outputs": [],
   "source": [
    "df_ords_prods_merge.loc[(df_ords_prods_merge['prices'] <= 15) & (df_ords_prods_merge['prices'] > 5), 'price_range_loc'] = 'Mid-range product'"
   ]
  },
  {
   "cell_type": "code",
   "execution_count": 14,
   "id": "004455bc",
   "metadata": {},
   "outputs": [],
   "source": [
    "df_ords_prods_merge.loc[df_ords_prods_merge['prices'] <= 5, 'price_range_loc'] = 'Low-range product'"
   ]
  },
  {
   "cell_type": "code",
   "execution_count": null,
   "id": "f854df4d",
   "metadata": {},
   "outputs": [],
   "source": [
    "df_ords_prods_merge['price_range_loc'].value_counts(dropna = False)"
   ]
  },
  {
   "cell_type": "code",
   "execution_count": 16,
   "id": "ebc64e6e",
   "metadata": {},
   "outputs": [],
   "source": [
    "# Applying the above to the whole data frame\n",
    "\n",
    "df_ords_prods_mrg.loc[(df_ords_prods_mrg['prices'] <= 15) & (df_ords_prods_mrg['prices'] > 5), 'price_range_loc'] = 'Mid-range product'"
   ]
  },
  {
   "cell_type": "code",
   "execution_count": null,
   "id": "8b147192",
   "metadata": {},
   "outputs": [],
   "source": [
    "# Find the busiest day of the week\n",
    "\n",
    "df_ords_prods_mrg['orders_day_of_week'].value_counts(dropna = False)"
   ]
  },
  {
   "cell_type": "code",
   "execution_count": 18,
   "id": "b03e35cb",
   "metadata": {},
   "outputs": [],
   "source": [
    "# Creating a loop for busiest day of the week - Step 1 create a list\n",
    "\n",
    "result = []\n",
    "\n",
    "for value in df_ords_prods_mrg[\"orders_day_of_week\"]:\n",
    "  if value == 0:\n",
    "    result.append(\"Busiest day\")\n",
    "  elif value == 4:\n",
    "    result.append(\"Least busy\")\n",
    "  else:\n",
    "    result.append(\"Regularly busy\")"
   ]
  },
  {
   "cell_type": "code",
   "execution_count": 19,
   "id": "aa102221",
   "metadata": {},
   "outputs": [],
   "source": [
    "# Creating a loop for busiest day of the week - Step 2 combine list with df_ords_prods_mrg\n",
    "\n",
    "df_ords_prods_mrg['busiest_day'] = result"
   ]
  },
  {
   "cell_type": "code",
   "execution_count": null,
   "id": "900fcdde",
   "metadata": {},
   "outputs": [],
   "source": [
    "df_ords_prods_mrg['busiest_day'].value_counts(dropna = False)"
   ]
  },
  {
   "cell_type": "markdown",
   "id": "9be36e0c",
   "metadata": {},
   "source": [
    "# Task 4.7"
   ]
  },
  {
   "cell_type": "markdown",
   "id": "67cda208",
   "metadata": {},
   "source": [
    "## Step 2"
   ]
  },
  {
   "cell_type": "code",
   "execution_count": null,
   "id": "4c781d71",
   "metadata": {},
   "outputs": [],
   "source": [
    "# Drop the busiest_day column\n",
    "\n",
    "df_ords_prods_mrg.drop(labels ='busiest_day', axis = 1)"
   ]
  },
  {
   "cell_type": "code",
   "execution_count": 23,
   "id": "b230d2b8",
   "metadata": {},
   "outputs": [],
   "source": [
    "df_ords_prods_mrg = df_ords_prods_mrg.drop(labels ='busiest_day', axis = 1)"
   ]
  },
  {
   "cell_type": "code",
   "execution_count": null,
   "id": "a01e0349",
   "metadata": {},
   "outputs": [],
   "source": [
    "df_ords_prods_mrg.head()"
   ]
  },
  {
   "cell_type": "code",
   "execution_count": 44,
   "id": "d57e36df",
   "metadata": {},
   "outputs": [],
   "source": [
    "# Create a list with the two busiest and slowest days\n",
    "\n",
    "result_2 = []\n",
    "\n",
    "for value in df_ords_prods_mrg[\"orders_day_of_week\"]:\n",
    "  if value == 0 and 1:\n",
    "    result_2.append(\"Busiest days\")\n",
    "  elif value == 3 and 4:\n",
    "    result_2.append(\"Least busy\")\n",
    "  else:\n",
    "    result_2.append(\"Regularly busy\")"
   ]
  },
  {
   "cell_type": "code",
   "execution_count": null,
   "id": "b9e20aac",
   "metadata": {},
   "outputs": [],
   "source": [
    "result_2"
   ]
  },
  {
   "cell_type": "code",
   "execution_count": null,
   "id": "33b8e874",
   "metadata": {},
   "outputs": [],
   "source": [
    "df_ords_prods_mrg.head()"
   ]
  },
  {
   "cell_type": "code",
   "execution_count": 47,
   "id": "a3566169",
   "metadata": {},
   "outputs": [],
   "source": [
    "# combine list with df_ords_prods_mrg\n",
    "\n",
    "df_ords_prods_mrg['order_volume'] = result_2"
   ]
  },
  {
   "cell_type": "code",
   "execution_count": null,
   "id": "e00019af",
   "metadata": {},
   "outputs": [],
   "source": [
    "df_ords_prods_mrg.head(15)"
   ]
  },
  {
   "cell_type": "markdown",
   "id": "69af0b5a",
   "metadata": {},
   "source": [
    "## Step 3"
   ]
  },
  {
   "cell_type": "code",
   "execution_count": null,
   "id": "57b96c61",
   "metadata": {},
   "outputs": [],
   "source": [
    "df_ords_prods_mrg['order_volume'].value_counts(dropna = False)"
   ]
  },
  {
   "cell_type": "code",
   "execution_count": null,
   "id": "bb928fa4",
   "metadata": {},
   "outputs": [],
   "source": [
    "df_ords_prods_mrg.shape"
   ]
  },
  {
   "cell_type": "markdown",
   "id": "ab04888a",
   "metadata": {},
   "source": [
    "### The order_volume column has a value for each row. The order_volume values correspond to the orders_day_of_week column, as expected."
   ]
  },
  {
   "cell_type": "markdown",
   "id": "26a96f01",
   "metadata": {},
   "source": [
    "## Step 4"
   ]
  },
  {
   "cell_type": "code",
   "execution_count": null,
   "id": "39fba59a",
   "metadata": {},
   "outputs": [],
   "source": [
    "# Find the busiest hour of the day\n",
    "\n",
    "df_ords_prods_mrg['order_hour_of_day'].value_counts(dropna = False)"
   ]
  },
  {
   "cell_type": "code",
   "execution_count": 53,
   "id": "ea61e2ce",
   "metadata": {},
   "outputs": [],
   "source": [
    "# Create a list with the busiest, average and slowest ordering hours\n",
    "\n",
    "result_3 = []\n",
    "\n",
    "for value in df_ords_prods_mrg[\"order_hour_of_day\"]:\n",
    "  if value == 10 and 11 and 14 and 15 and 13 and 12 and 16 and 9 and 17:\n",
    "    result_3.append(\"Most orders\")\n",
    "  elif value == 8 and 18 and 19 and 20 and 7 and 21 and 22 and 23:\n",
    "    result_3.append(\"Average orders\")\n",
    "  else:\n",
    "    result_3.append(\"Fewest orders\")"
   ]
  },
  {
   "cell_type": "code",
   "execution_count": null,
   "id": "5a286df8",
   "metadata": {},
   "outputs": [],
   "source": [
    "result_3"
   ]
  },
  {
   "cell_type": "code",
   "execution_count": 55,
   "id": "8f6597a9",
   "metadata": {},
   "outputs": [],
   "source": [
    "# combine list with df_ords_prods_mrg\n",
    "\n",
    "df_ords_prods_mrg['busiest_period_of_day'] = result_3"
   ]
  },
  {
   "cell_type": "code",
   "execution_count": null,
   "id": "abc75f2d",
   "metadata": {},
   "outputs": [],
   "source": [
    "df_ords_prods_mrg.head(15)"
   ]
  },
  {
   "cell_type": "markdown",
   "id": "66163f7e",
   "metadata": {},
   "source": [
    "## Step 5"
   ]
  },
  {
   "cell_type": "code",
   "execution_count": null,
   "id": "0d91f664",
   "metadata": {},
   "outputs": [],
   "source": [
    "# Frequency of order_volume column\n",
    "\n",
    "df_ords_prods_mrg['order_volume'].value_counts(dropna = False)"
   ]
  },
  {
   "cell_type": "markdown",
   "id": "f7111bc1",
   "metadata": {},
   "source": [
    "## Step 7"
   ]
  },
  {
   "cell_type": "code",
   "execution_count": 59,
   "id": "afb0ab6e",
   "metadata": {},
   "outputs": [],
   "source": [
    "# Export the newly created dataframe as orders_products_merged to pkl format\n",
    "\n",
    "df_ords_prods_mrg.to_pickle(os.path.join(path,'Prepared Data', 'orders_products_merged.pkl'))"
   ]
  },
  {
   "cell_type": "code",
   "execution_count": null,
   "id": "7a77b8ab",
   "metadata": {},
   "outputs": [],
   "source": []
  },
  {
   "cell_type": "code",
   "execution_count": null,
   "id": "800e3049",
   "metadata": {},
   "outputs": [],
   "source": []
  },
  {
   "cell_type": "code",
   "execution_count": null,
   "id": "28f50d36",
   "metadata": {},
   "outputs": [],
   "source": []
  },
  {
   "cell_type": "code",
   "execution_count": null,
   "id": "d0dfa8f3",
   "metadata": {},
   "outputs": [],
   "source": []
  },
  {
   "cell_type": "code",
   "execution_count": null,
   "id": "a9b1f069",
   "metadata": {},
   "outputs": [],
   "source": []
  },
  {
   "cell_type": "code",
   "execution_count": null,
   "id": "7a3186dc",
   "metadata": {},
   "outputs": [],
   "source": []
  },
  {
   "cell_type": "code",
   "execution_count": null,
   "id": "5db23be0",
   "metadata": {},
   "outputs": [],
   "source": []
  },
  {
   "cell_type": "code",
   "execution_count": null,
   "id": "af4d9d51",
   "metadata": {},
   "outputs": [],
   "source": []
  },
  {
   "cell_type": "code",
   "execution_count": null,
   "id": "42c1c4b8",
   "metadata": {},
   "outputs": [],
   "source": []
  }
 ],
 "metadata": {
  "kernelspec": {
   "display_name": "Python 3 (ipykernel)",
   "language": "python",
   "name": "python3"
  },
  "language_info": {
   "codemirror_mode": {
    "name": "ipython",
    "version": 3
   },
   "file_extension": ".py",
   "mimetype": "text/x-python",
   "name": "python",
   "nbconvert_exporter": "python",
   "pygments_lexer": "ipython3",
   "version": "3.9.12"
  }
 },
 "nbformat": 4,
 "nbformat_minor": 5
}
