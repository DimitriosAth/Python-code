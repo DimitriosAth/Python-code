{
 "cells": [
  {
   "cell_type": "markdown",
   "id": "e2bccddd",
   "metadata": {},
   "source": [
    "# 01. Importing libraries and data sets"
   ]
  },
  {
   "cell_type": "code",
   "execution_count": 1,
   "id": "4ae58ffe",
   "metadata": {},
   "outputs": [],
   "source": [
    "# Import Libraries\n",
    "import pandas as pd\n",
    "import numpy as np\n",
    "import os"
   ]
  },
  {
   "cell_type": "code",
   "execution_count": 2,
   "id": "1781f558",
   "metadata": {},
   "outputs": [],
   "source": [
    "path = r'/Users/Dimitris/Desktop/CF Data Analytics/Data Immersion/Achievement 4/22-08-2022 Instacart Basket Analysis/02 Data'"
   ]
  },
  {
   "cell_type": "code",
   "execution_count": 3,
   "id": "f09ff2ce",
   "metadata": {},
   "outputs": [],
   "source": [
    "# Import the “products_checked.csv” file into Jupyter as df_prods\n",
    "\n",
    "df_prods = pd.read_csv(os.path.join(path, 'Prepared data', 'products_checked.csv'), index_col=False)"
   ]
  },
  {
   "cell_type": "code",
   "execution_count": 4,
   "id": "5e8ff3fe",
   "metadata": {},
   "outputs": [],
   "source": [
    "# Import the “orderswrangled.csv” file into Jupyter as df_ords\n",
    "\n",
    "df_ords = pd.read_csv(os.path.join(path, 'Prepared data', 'orders_wrangled.csv'), index_col=False)"
   ]
  },
  {
   "cell_type": "code",
   "execution_count": null,
   "id": "09ff8b23",
   "metadata": {},
   "outputs": [],
   "source": [
    "# Step 2\n",
    "# The max value of the \"prices\" column appears to be too high compared to the other values of that column.\n",
    "\n",
    "df_prods.describe()"
   ]
  },
  {
   "cell_type": "code",
   "execution_count": 6,
   "id": "d0c4e42e",
   "metadata": {},
   "outputs": [],
   "source": [
    "# Step 3 - Check for mixed-type data in your df_ords dataframe.\n",
    "# Answer: No mixed-type data found.\n",
    "\n",
    "for col in df_ords.columns.tolist():\n",
    "  weird = (df_ords[[col]].applymap(type) != df_ords[[col]].iloc[0].apply(type)).any(axis = 1)\n",
    "  if len (df_ords[weird]) > 0:\n",
    "    print (col)"
   ]
  },
  {
   "cell_type": "code",
   "execution_count": null,
   "id": "5b17dae4",
   "metadata": {},
   "outputs": [],
   "source": [
    "# Step 5 - Run a check for missing values in your df_ords dataframe.\n",
    "\n",
    "df_ords.isnull().sum()"
   ]
  },
  {
   "cell_type": "markdown",
   "id": "7474de9b",
   "metadata": {},
   "source": [
    "# Step 5\n",
    "\n",
    "There are 206209 missing values from the column days_since_prior_order. Missing values can occur for two reasons: 1) data corruption, or 2) they were never recorded in the first place. In this case, the missing values exist on the rows describing the first order placed by each user/customer. Since it is the first order, there is no prior order to count from. When a user places multiple orders on the same say, the number zero (0) is recorded in the days_since_prior_order column."
   ]
  },
  {
   "cell_type": "code",
   "execution_count": 8,
   "id": "cf5a4636",
   "metadata": {},
   "outputs": [],
   "source": [
    "# Step 6 - Address the missing values using an appropriate method.\n",
    "\n",
    "df_ords['prior_order'] = df_ords.notna().all(axis=1).view('i1')"
   ]
  },
  {
   "cell_type": "code",
   "execution_count": null,
   "id": "64244390",
   "metadata": {},
   "outputs": [],
   "source": [
    "df_ords.head(15)"
   ]
  },
  {
   "cell_type": "markdown",
   "id": "338289b6",
   "metadata": {},
   "source": [
    "# Step 6\n",
    "\n",
    "I created a new variable that acts like a flag based on the missing value. If there has been no prior order, the value is zero(0). If there has been a prior order, the value is one (1)."
   ]
  },
  {
   "cell_type": "code",
   "execution_count": 10,
   "id": "66ec48f1",
   "metadata": {},
   "outputs": [],
   "source": [
    "# Renaming df_ords to df_ords_clean to show the state of the dataframe\n",
    "\n",
    "df_ords_clean = df_ords"
   ]
  },
  {
   "cell_type": "code",
   "execution_count": null,
   "id": "10dc6fde",
   "metadata": {},
   "outputs": [],
   "source": [
    "df_ords_clean"
   ]
  },
  {
   "cell_type": "code",
   "execution_count": 12,
   "id": "627a18de",
   "metadata": {},
   "outputs": [],
   "source": [
    "# Step 7 - Run a check for duplicate values in your df_ords data.\n",
    "\n",
    "df_ords_dups = df_ords_clean[df_ords_clean.duplicated()]"
   ]
  },
  {
   "cell_type": "code",
   "execution_count": 13,
   "id": "c5a42c69",
   "metadata": {},
   "outputs": [
    {
     "data": {
      "text/html": [
       "<div>\n",
       "<style scoped>\n",
       "    .dataframe tbody tr th:only-of-type {\n",
       "        vertical-align: middle;\n",
       "    }\n",
       "\n",
       "    .dataframe tbody tr th {\n",
       "        vertical-align: top;\n",
       "    }\n",
       "\n",
       "    .dataframe thead th {\n",
       "        text-align: right;\n",
       "    }\n",
       "</style>\n",
       "<table border=\"1\" class=\"dataframe\">\n",
       "  <thead>\n",
       "    <tr style=\"text-align: right;\">\n",
       "      <th></th>\n",
       "      <th>Unnamed: 0</th>\n",
       "      <th>order_id</th>\n",
       "      <th>user_id</th>\n",
       "      <th>order_number</th>\n",
       "      <th>orders_day_of_week</th>\n",
       "      <th>order_hour_of_day</th>\n",
       "      <th>days_since_prior_order</th>\n",
       "      <th>prior_order</th>\n",
       "    </tr>\n",
       "  </thead>\n",
       "  <tbody>\n",
       "  </tbody>\n",
       "</table>\n",
       "</div>"
      ],
      "text/plain": [
       "Empty DataFrame\n",
       "Columns: [Unnamed: 0, order_id, user_id, order_number, orders_day_of_week, order_hour_of_day, days_since_prior_order, prior_order]\n",
       "Index: []"
      ]
     },
     "execution_count": 13,
     "metadata": {},
     "output_type": "execute_result"
    }
   ],
   "source": [
    "df_ords_dups"
   ]
  },
  {
   "cell_type": "markdown",
   "id": "2b08399c",
   "metadata": {},
   "source": [
    "# Step 7\n",
    "\n",
    "There are no duplicates."
   ]
  },
  {
   "cell_type": "code",
   "execution_count": null,
   "id": "72dc2354",
   "metadata": {},
   "outputs": [],
   "source": [
    "# Step 9 - Exporting df_ords_clean as 'orders_checked.csv'. The df_prods dataframe has already been exported.\n",
    "\n",
    "df_ords_clean.to_csv(os.path.join(path, 'Prepared Data', 'orders_checked.csv'))"
   ]
  },
  {
   "cell_type": "code",
   "execution_count": null,
   "id": "a3c93fc7",
   "metadata": {},
   "outputs": [],
   "source": []
  },
  {
   "cell_type": "code",
   "execution_count": null,
   "id": "0fc21d41",
   "metadata": {},
   "outputs": [],
   "source": []
  },
  {
   "cell_type": "code",
   "execution_count": null,
   "id": "e1050807",
   "metadata": {},
   "outputs": [],
   "source": []
  },
  {
   "cell_type": "code",
   "execution_count": null,
   "id": "ab9b0368",
   "metadata": {},
   "outputs": [],
   "source": []
  },
  {
   "cell_type": "code",
   "execution_count": null,
   "id": "9b03ab9f",
   "metadata": {},
   "outputs": [],
   "source": []
  },
  {
   "cell_type": "code",
   "execution_count": null,
   "id": "5dec7d23",
   "metadata": {},
   "outputs": [],
   "source": []
  },
  {
   "cell_type": "code",
   "execution_count": null,
   "id": "c8beedfe",
   "metadata": {},
   "outputs": [],
   "source": []
  },
  {
   "cell_type": "code",
   "execution_count": null,
   "id": "60ee1106",
   "metadata": {},
   "outputs": [],
   "source": []
  },
  {
   "cell_type": "code",
   "execution_count": null,
   "id": "20d703b4",
   "metadata": {},
   "outputs": [],
   "source": []
  },
  {
   "cell_type": "code",
   "execution_count": null,
   "id": "09246cc1",
   "metadata": {},
   "outputs": [],
   "source": []
  },
  {
   "cell_type": "code",
   "execution_count": null,
   "id": "71a0f5fc",
   "metadata": {},
   "outputs": [],
   "source": []
  },
  {
   "cell_type": "code",
   "execution_count": null,
   "id": "f18a6e43",
   "metadata": {},
   "outputs": [],
   "source": []
  },
  {
   "cell_type": "code",
   "execution_count": null,
   "id": "79c5332d",
   "metadata": {},
   "outputs": [],
   "source": []
  },
  {
   "cell_type": "code",
   "execution_count": null,
   "id": "ac648b95",
   "metadata": {},
   "outputs": [],
   "source": []
  },
  {
   "cell_type": "code",
   "execution_count": null,
   "id": "4583372f",
   "metadata": {},
   "outputs": [],
   "source": []
  },
  {
   "cell_type": "code",
   "execution_count": null,
   "id": "1ffdd6d8",
   "metadata": {},
   "outputs": [],
   "source": []
  },
  {
   "cell_type": "code",
   "execution_count": null,
   "id": "343d770a",
   "metadata": {},
   "outputs": [],
   "source": []
  },
  {
   "cell_type": "code",
   "execution_count": null,
   "id": "d03a46ed",
   "metadata": {},
   "outputs": [],
   "source": []
  },
  {
   "cell_type": "code",
   "execution_count": null,
   "id": "fec83999",
   "metadata": {},
   "outputs": [],
   "source": []
  },
  {
   "cell_type": "code",
   "execution_count": null,
   "id": "1fb270ff",
   "metadata": {},
   "outputs": [],
   "source": []
  },
  {
   "cell_type": "code",
   "execution_count": null,
   "id": "4d612e8d",
   "metadata": {},
   "outputs": [],
   "source": []
  },
  {
   "cell_type": "code",
   "execution_count": null,
   "id": "ca507bca",
   "metadata": {},
   "outputs": [],
   "source": []
  },
  {
   "cell_type": "code",
   "execution_count": null,
   "id": "3ed9c2d2",
   "metadata": {},
   "outputs": [],
   "source": []
  },
  {
   "cell_type": "code",
   "execution_count": null,
   "id": "1218cd2e",
   "metadata": {},
   "outputs": [],
   "source": []
  },
  {
   "cell_type": "code",
   "execution_count": null,
   "id": "115a1811",
   "metadata": {},
   "outputs": [],
   "source": []
  },
  {
   "cell_type": "code",
   "execution_count": null,
   "id": "da75144e",
   "metadata": {},
   "outputs": [],
   "source": []
  },
  {
   "cell_type": "code",
   "execution_count": null,
   "id": "febda691",
   "metadata": {},
   "outputs": [],
   "source": []
  },
  {
   "cell_type": "code",
   "execution_count": null,
   "id": "ba3aeeca",
   "metadata": {},
   "outputs": [],
   "source": []
  }
 ],
 "metadata": {
  "kernelspec": {
   "display_name": "Python 3 (ipykernel)",
   "language": "python",
   "name": "python3"
  },
  "language_info": {
   "codemirror_mode": {
    "name": "ipython",
    "version": 3
   },
   "file_extension": ".py",
   "mimetype": "text/x-python",
   "name": "python",
   "nbconvert_exporter": "python",
   "pygments_lexer": "ipython3",
   "version": "3.9.12"
  }
 },
 "nbformat": 4,
 "nbformat_minor": 5
}
