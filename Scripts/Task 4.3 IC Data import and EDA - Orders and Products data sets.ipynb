{
 "cells": [
  {
   "cell_type": "markdown",
   "id": "40d516f3",
   "metadata": {},
   "source": [
    "# 01. Importing libraries"
   ]
  },
  {
   "cell_type": "code",
   "execution_count": 1,
   "id": "63e8a931",
   "metadata": {},
   "outputs": [],
   "source": [
    "# Import Libraries\n",
    "import pandas as pd\n",
    "import numpy as np\n",
    "import os"
   ]
  },
  {
   "cell_type": "markdown",
   "id": "ef2f4828",
   "metadata": {},
   "source": [
    "# 02. Importing data"
   ]
  },
  {
   "cell_type": "code",
   "execution_count": null,
   "id": "83fc96f0",
   "metadata": {},
   "outputs": [],
   "source": [
    "# Turn your project folder path into a string\n",
    "\n",
    "r'/Users/Dimitris/Desktop/CF Data Analytics/Data Immersion/Achievement 4/22-08-2022 Instacart Basket Analysis/02 Data/Original Data/products.csv'"
   ]
  },
  {
   "cell_type": "code",
   "execution_count": 2,
   "id": "fe190aed",
   "metadata": {},
   "outputs": [],
   "source": [
    "# Import the “orders.csv” data set into your notebook using the os library and the vars_list shortcut, omitting the “eval_set” column in your final dataframe.\n",
    "\n",
    "path = r'/Users/Dimitris/Desktop/CF Data Analytics/Data Immersion/Achievement 4/22-08-2022 Instacart Basket Analysis/02 Data'"
   ]
  },
  {
   "cell_type": "code",
   "execution_count": 3,
   "id": "8826974b",
   "metadata": {},
   "outputs": [
    {
     "data": {
      "text/plain": [
       "'/Users/Dimitris/Desktop/CF Data Analytics/Data Immersion/Achievement 4/22-08-2022 Instacart Basket Analysis/02 Data'"
      ]
     },
     "execution_count": 3,
     "metadata": {},
     "output_type": "execute_result"
    }
   ],
   "source": [
    "path"
   ]
  },
  {
   "cell_type": "code",
   "execution_count": 4,
   "id": "26326009",
   "metadata": {},
   "outputs": [],
   "source": [
    "# vars_list Creating a List to allow me to import only specific columns from the dataset\n",
    "\n",
    "vars_list = ['order_id', 'user_id', 'order_number', 'order_dow', 'order_hour_of_day', 'days_since_prior_order']"
   ]
  },
  {
   "cell_type": "code",
   "execution_count": 8,
   "id": "d6eaf87d",
   "metadata": {},
   "outputs": [],
   "source": [
    "# Final step to import the 'orders' data set\n",
    "\n",
    "df = pd.read_csv(os.path.join(path, 'Original data', 'orders.csv'), usecols = vars_list)"
   ]
  },
  {
   "cell_type": "markdown",
   "id": "d6035be8",
   "metadata": {},
   "source": [
    "# 03. Exploring the data"
   ]
  },
  {
   "cell_type": "code",
   "execution_count": null,
   "id": "26301cdf",
   "metadata": {},
   "outputs": [],
   "source": [
    "# Print the first 5 rows of your dataframe.\n",
    "\n",
    "df.head()"
   ]
  },
  {
   "cell_type": "code",
   "execution_count": 9,
   "id": "579ce78f",
   "metadata": {},
   "outputs": [],
   "source": [
    "# Import the “products.csv” file into Jupyter as df_prods\n",
    "\n",
    "df_prods = pd.read_csv(os.path.join(path, 'Original data', 'products.csv'), index_col=False)"
   ]
  },
  {
   "cell_type": "code",
   "execution_count": null,
   "id": "6a20f453",
   "metadata": {},
   "outputs": [],
   "source": [
    "# Print the first 20 rows of the df_prods dataframe.\n",
    "\n",
    "df_prods.head(20)"
   ]
  },
  {
   "cell_type": "code",
   "execution_count": null,
   "id": "139ee064",
   "metadata": {},
   "outputs": [],
   "source": [
    "# Print the last 35 rows of the df_prods dataframe.\n",
    "\n",
    "df_prods.tail(35)"
   ]
  },
  {
   "cell_type": "code",
   "execution_count": 12,
   "id": "17ff7e4e",
   "metadata": {},
   "outputs": [
    {
     "data": {
      "text/plain": [
       "Index(['product_id', 'product_name', 'aisle_id', 'department_id', 'prices'], dtype='object')"
      ]
     },
     "execution_count": 12,
     "metadata": {},
     "output_type": "execute_result"
    }
   ],
   "source": [
    "# Print the names of the columns in the df_prods dataframe.\n",
    "\n",
    "df_prods.columns"
   ]
  },
  {
   "cell_type": "code",
   "execution_count": null,
   "id": "0e80f3fc",
   "metadata": {},
   "outputs": [],
   "source": [
    "# Print the number of rows and columns in the df_prods dataframe.\n",
    "\n",
    "df_prods.shape"
   ]
  },
  {
   "cell_type": "markdown",
   "id": "dca5fdf2",
   "metadata": {},
   "source": [
    "Answer the following questions:\n",
    "1) What’s the maximum value of the “aisle_id” column?\n",
    "2) What’s the data type of the “department_id” column?"
   ]
  },
  {
   "cell_type": "code",
   "execution_count": null,
   "id": "545413b2",
   "metadata": {},
   "outputs": [],
   "source": [
    "# Answer 1\n",
    "# The maximum value of the “aisle_id” column is 134.000000.\n",
    "\n",
    "df_prods.describe()\n"
   ]
  },
  {
   "cell_type": "code",
   "execution_count": null,
   "id": "34f2d46c",
   "metadata": {},
   "outputs": [],
   "source": [
    "# Answer 2\n",
    "# The data type of the “department_id” column is \"int64\" i.e, 64 bit integer.\n",
    "\n",
    "df_prods.info()"
   ]
  },
  {
   "cell_type": "code",
   "execution_count": null,
   "id": "a91cee12",
   "metadata": {},
   "outputs": [],
   "source": []
  },
  {
   "cell_type": "code",
   "execution_count": null,
   "id": "f9c8ad88",
   "metadata": {},
   "outputs": [],
   "source": []
  },
  {
   "cell_type": "code",
   "execution_count": null,
   "id": "4e69eda8",
   "metadata": {},
   "outputs": [],
   "source": []
  }
 ],
 "metadata": {
  "kernelspec": {
   "display_name": "Python 3 (ipykernel)",
   "language": "python",
   "name": "python3"
  },
  "language_info": {
   "codemirror_mode": {
    "name": "ipython",
    "version": 3
   },
   "file_extension": ".py",
   "mimetype": "text/x-python",
   "name": "python",
   "nbconvert_exporter": "python",
   "pygments_lexer": "ipython3",
   "version": "3.9.12"
  }
 },
 "nbformat": 4,
 "nbformat_minor": 5
}
