{
 "cells": [
  {
   "cell_type": "markdown",
   "id": "c8a649ff",
   "metadata": {},
   "source": [
    "# Task 4.6: Combining the the orders_products_combined dataframe with the products_checked data set"
   ]
  },
  {
   "cell_type": "code",
   "execution_count": 1,
   "id": "91392a55",
   "metadata": {},
   "outputs": [],
   "source": [
    "# Import libraries\n",
    "\n",
    "import pandas as pd\n",
    "import numpy as np\n",
    "import os"
   ]
  },
  {
   "cell_type": "code",
   "execution_count": 2,
   "id": "c4e9e9ca",
   "metadata": {},
   "outputs": [],
   "source": [
    "path = r'/Users/Dimitris/Desktop/CF Data Analytics/Data Immersion/Achievement 4/22-08-2022 Instacart Basket Analysis/02 Data'"
   ]
  },
  {
   "cell_type": "markdown",
   "id": "945d2d2e",
   "metadata": {},
   "source": [
    "# Step 3"
   ]
  },
  {
   "cell_type": "code",
   "execution_count": 3,
   "id": "d6d208b2",
   "metadata": {},
   "outputs": [],
   "source": [
    "# Import the orders_products_combined dataframe from the pickle file you saved\n",
    "\n",
    "df_ords_prods_comb = pd.read_pickle(os.path.join(path, 'Prepared data', 'orders_products_combined.pkl'))"
   ]
  },
  {
   "cell_type": "code",
   "execution_count": null,
   "id": "196becbe",
   "metadata": {},
   "outputs": [],
   "source": [
    "df_ords_prods_comb.shape"
   ]
  },
  {
   "cell_type": "markdown",
   "id": "37ebbbb2",
   "metadata": {},
   "source": [
    "# Step 4"
   ]
  },
  {
   "cell_type": "code",
   "execution_count": null,
   "id": "c9b8ad1f",
   "metadata": {},
   "outputs": [],
   "source": [
    "# Check the shape of data\n",
    "\n",
    "df_ords_prods_comb.head()"
   ]
  },
  {
   "cell_type": "code",
   "execution_count": null,
   "id": "ab846a9a",
   "metadata": {},
   "outputs": [],
   "source": [
    "# Drop the _merge column\n",
    "\n",
    "df_ords_prods_comb.drop(labels ='_merge', axis = 1)"
   ]
  },
  {
   "cell_type": "code",
   "execution_count": null,
   "id": "5cff3b66",
   "metadata": {},
   "outputs": [],
   "source": [
    "# Check the shape of data\n",
    "\n",
    "df_ords_prods_comb.head()"
   ]
  },
  {
   "cell_type": "code",
   "execution_count": 8,
   "id": "f42a2fde",
   "metadata": {},
   "outputs": [],
   "source": [
    "# Saving the df_ords_prods_comb dataframe without the _merge column\n",
    "\n",
    "df_ords_prods_comb = df_ords_prods_comb.drop(labels ='_merge', axis = 1)"
   ]
  },
  {
   "cell_type": "code",
   "execution_count": null,
   "id": "d4976235",
   "metadata": {},
   "outputs": [],
   "source": [
    "# Check the shape of data\n",
    "\n",
    "df_ords_prods_comb.head()"
   ]
  },
  {
   "cell_type": "markdown",
   "id": "9b353967",
   "metadata": {},
   "source": [
    "# Step 5"
   ]
  },
  {
   "cell_type": "code",
   "execution_count": 10,
   "id": "762da3c2",
   "metadata": {},
   "outputs": [],
   "source": [
    "# Import the products_checked data set\n",
    "\n",
    "df_prods = pd.read_csv(os.path.join(path, 'Prepared data', 'products_checked.csv'))"
   ]
  },
  {
   "cell_type": "code",
   "execution_count": null,
   "id": "9835d440",
   "metadata": {},
   "outputs": [],
   "source": [
    "# Check the shape of data\n",
    "\n",
    "df_prods.shape"
   ]
  },
  {
   "cell_type": "code",
   "execution_count": null,
   "id": "52b1fee6",
   "metadata": {},
   "outputs": [],
   "source": [
    "df_prods.head()"
   ]
  },
  {
   "cell_type": "code",
   "execution_count": 13,
   "id": "1b17dc95",
   "metadata": {},
   "outputs": [],
   "source": [
    "# Combine the orders_products_combined dataframe with the products_checked data set\n",
    "\n",
    "orders_products_merged = df_ords_prods_comb.merge(df_prods, on = 'product_id', how = 'left', indicator = True)"
   ]
  },
  {
   "cell_type": "code",
   "execution_count": null,
   "id": "3e2b5205",
   "metadata": {},
   "outputs": [],
   "source": [
    "# Check the shape of orders_products_merged\n",
    "\n",
    "orders_products_merged.shape"
   ]
  },
  {
   "cell_type": "code",
   "execution_count": null,
   "id": "5ca0a82d",
   "metadata": {},
   "outputs": [],
   "source": [
    "orders_products_merged.head()"
   ]
  },
  {
   "cell_type": "markdown",
   "id": "533ca8dc",
   "metadata": {},
   "source": [
    "# Step 6"
   ]
  },
  {
   "cell_type": "code",
   "execution_count": null,
   "id": "61ba3013",
   "metadata": {},
   "outputs": [],
   "source": [
    "# Confirm the results of the merge using the merge flag\n",
    "\n",
    "orders_products_merged['_merge'].value_counts()"
   ]
  },
  {
   "cell_type": "markdown",
   "id": "b67bb81f",
   "metadata": {},
   "source": [
    "# Step 7"
   ]
  },
  {
   "cell_type": "code",
   "execution_count": 17,
   "id": "f7209c64",
   "metadata": {},
   "outputs": [],
   "source": [
    "# Export the newly created dataframe as orders_products_merged to pkl format\n",
    "\n",
    "orders_products_merged.to_pickle(os.path.join(path,'Prepared Data', 'orders_products_merged.pkl'))"
   ]
  },
  {
   "cell_type": "code",
   "execution_count": null,
   "id": "5e226087",
   "metadata": {},
   "outputs": [],
   "source": [
    "orders_products_merged.shape"
   ]
  },
  {
   "cell_type": "code",
   "execution_count": null,
   "id": "741bae35",
   "metadata": {},
   "outputs": [],
   "source": []
  },
  {
   "cell_type": "code",
   "execution_count": null,
   "id": "e2ef3a61",
   "metadata": {},
   "outputs": [],
   "source": []
  },
  {
   "cell_type": "code",
   "execution_count": null,
   "id": "7e06e2b2",
   "metadata": {},
   "outputs": [],
   "source": []
  },
  {
   "cell_type": "code",
   "execution_count": null,
   "id": "81e57934",
   "metadata": {},
   "outputs": [],
   "source": []
  },
  {
   "cell_type": "code",
   "execution_count": null,
   "id": "70f45ad6",
   "metadata": {},
   "outputs": [],
   "source": []
  },
  {
   "cell_type": "code",
   "execution_count": null,
   "id": "dc1b092e",
   "metadata": {},
   "outputs": [],
   "source": []
  },
  {
   "cell_type": "code",
   "execution_count": null,
   "id": "c35b9be8",
   "metadata": {},
   "outputs": [],
   "source": []
  },
  {
   "cell_type": "code",
   "execution_count": null,
   "id": "7742561a",
   "metadata": {},
   "outputs": [],
   "source": []
  },
  {
   "cell_type": "code",
   "execution_count": null,
   "id": "5fa390ec",
   "metadata": {},
   "outputs": [],
   "source": []
  },
  {
   "cell_type": "code",
   "execution_count": null,
   "id": "c43e2f23",
   "metadata": {},
   "outputs": [],
   "source": []
  },
  {
   "cell_type": "code",
   "execution_count": null,
   "id": "7420a235",
   "metadata": {},
   "outputs": [],
   "source": []
  },
  {
   "cell_type": "code",
   "execution_count": null,
   "id": "4ebed057",
   "metadata": {},
   "outputs": [],
   "source": []
  }
 ],
 "metadata": {
  "kernelspec": {
   "display_name": "Python 3 (ipykernel)",
   "language": "python",
   "name": "python3"
  },
  "language_info": {
   "codemirror_mode": {
    "name": "ipython",
    "version": 3
   },
   "file_extension": ".py",
   "mimetype": "text/x-python",
   "name": "python",
   "nbconvert_exporter": "python",
   "pygments_lexer": "ipython3",
   "version": "3.9.12"
  }
 },
 "nbformat": 4,
 "nbformat_minor": 5
}
